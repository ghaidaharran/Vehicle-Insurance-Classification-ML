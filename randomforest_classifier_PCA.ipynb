{
 "cells": [
  {
   "cell_type": "markdown",
   "id": "23d96e61",
   "metadata": {
    "id": "E_9oFKhPx0Ic",
    "papermill": {
     "duration": 0.011155,
     "end_time": "2022-12-28T19:40:20.084093",
     "exception": false,
     "start_time": "2022-12-28T19:40:20.072938",
     "status": "completed"
    },
    "tags": []
   },
   "source": [
    "# **Predict Health Insurance Owners' who will be interested in Vehicle Insurance**"
   ]
  },
  {
   "cell_type": "markdown",
   "id": "bceaffce",
   "metadata": {
    "id": "ngAJH9mHxs6w",
    "papermill": {
     "duration": 0.009171,
     "end_time": "2022-12-28T19:40:20.103038",
     "exception": false,
     "start_time": "2022-12-28T19:40:20.093867",
     "status": "completed"
    },
    "tags": []
   },
   "source": [
    "An insurance company that has provided Health Insurance to its customers want to build a model to predict whether the policyholders (customers) from past year will also be interested in Vehicle Insurance provided by the company."
   ]
  },
  {
   "cell_type": "code",
   "execution_count": 1,
   "id": "b07901a0",
   "metadata": {
    "execution": {
     "iopub.execute_input": "2022-12-28T19:40:20.179293Z",
     "iopub.status.busy": "2022-12-28T19:40:20.178826Z",
     "iopub.status.idle": "2022-12-28T19:40:34.479607Z",
     "shell.execute_reply": "2022-12-28T19:40:34.478429Z"
    },
    "id": "dDdjfqxGRgrt",
    "outputId": "f053c455-b47b-43ca-a5bf-f6c19207d020",
    "papermill": {
     "duration": 14.315751,
     "end_time": "2022-12-28T19:40:34.482738",
     "exception": false,
     "start_time": "2022-12-28T19:40:20.166987",
     "status": "completed"
    },
    "tags": []
   },
   "outputs": [],
   "source": [
    "from imblearn.over_sampling import SMOTE\n",
    "from imblearn.combine import SMOTETomek, SMOTEENN\n",
    "import pandas as pd\n",
    "import seaborn as sns\n",
    "import matplotlib.pyplot as plt\n",
    "from sklearn import metrics\n",
    "from sklearn.ensemble import RandomForestClassifier\n",
    "from sklearn.preprocessing import MinMaxScaler,RobustScaler,StandardScaler\n",
    "from sklearn.model_selection import train_test_split"
   ]
  },
  {
   "cell_type": "markdown",
   "id": "a82a8b44",
   "metadata": {
    "id": "JGytkQ8L8_1z",
    "papermill": {
     "duration": 0.009797,
     "end_time": "2022-12-28T19:40:34.502906",
     "exception": false,
     "start_time": "2022-12-28T19:40:34.493109",
     "status": "completed"
    },
    "tags": []
   },
   "source": [
    "# **Load the Data**"
   ]
  },
  {
   "cell_type": "code",
   "execution_count": 2,
   "id": "014c1f59",
   "metadata": {
    "execution": {
     "iopub.execute_input": "2022-12-28T19:40:34.524861Z",
     "iopub.status.busy": "2022-12-28T19:40:34.524461Z",
     "iopub.status.idle": "2022-12-28T19:40:35.469450Z",
     "shell.execute_reply": "2022-12-28T19:40:35.468127Z"
    },
    "id": "jQ92OuiXWQnn",
    "papermill": {
     "duration": 0.959923,
     "end_time": "2022-12-28T19:40:35.472766",
     "exception": false,
     "start_time": "2022-12-28T19:40:34.512843",
     "status": "completed"
    },
    "tags": []
   },
   "outputs": [],
   "source": [
    "#Importing Data Set\n",
    "train = pd.read_csv(r\"C:\\Users\\user\\Desktop\\vehicle-insurance-classification\\train.csv\")\n",
    "test = pd.read_csv(r\"C:\\Users\\user\\Desktop\\vehicle-insurance-classification\\test.csv\")"
   ]
  },
  {
   "cell_type": "markdown",
   "id": "4ed42daa",
   "metadata": {
    "id": "_lMAr3AL9K3R",
    "papermill": {
     "duration": 0.009749,
     "end_time": "2022-12-28T19:40:35.492846",
     "exception": false,
     "start_time": "2022-12-28T19:40:35.483097",
     "status": "completed"
    },
    "tags": []
   },
   "source": [
    "# **View the data**"
   ]
  },
  {
   "cell_type": "code",
   "execution_count": 3,
   "id": "ef7dc787",
   "metadata": {
    "execution": {
     "iopub.execute_input": "2022-12-28T19:40:35.515976Z",
     "iopub.status.busy": "2022-12-28T19:40:35.515004Z",
     "iopub.status.idle": "2022-12-28T19:40:35.544488Z",
     "shell.execute_reply": "2022-12-28T19:40:35.543408Z"
    },
    "id": "cmDmrwSj9HhU",
    "outputId": "ce2d8beb-73f7-49b6-dfd6-97e0a5187ae6",
    "papermill": {
     "duration": 0.043568,
     "end_time": "2022-12-28T19:40:35.547009",
     "exception": false,
     "start_time": "2022-12-28T19:40:35.503441",
     "status": "completed"
    },
    "tags": []
   },
   "outputs": [
    {
     "data": {
      "text/html": [
       "<div>\n",
       "<style scoped>\n",
       "    .dataframe tbody tr th:only-of-type {\n",
       "        vertical-align: middle;\n",
       "    }\n",
       "\n",
       "    .dataframe tbody tr th {\n",
       "        vertical-align: top;\n",
       "    }\n",
       "\n",
       "    .dataframe thead th {\n",
       "        text-align: right;\n",
       "    }\n",
       "</style>\n",
       "<table border=\"1\" class=\"dataframe\">\n",
       "  <thead>\n",
       "    <tr style=\"text-align: right;\">\n",
       "      <th></th>\n",
       "      <th>id</th>\n",
       "      <th>Gender</th>\n",
       "      <th>Age</th>\n",
       "      <th>Driving_License</th>\n",
       "      <th>Region_Code</th>\n",
       "      <th>Previously_Insured</th>\n",
       "      <th>Vehicle_Age</th>\n",
       "      <th>Vehicle_Damage</th>\n",
       "      <th>Annual_Premium</th>\n",
       "      <th>Policy_Sales_Channel</th>\n",
       "      <th>Vintage</th>\n",
       "      <th>Response</th>\n",
       "    </tr>\n",
       "  </thead>\n",
       "  <tbody>\n",
       "    <tr>\n",
       "      <th>0</th>\n",
       "      <td>508077</td>\n",
       "      <td>Male</td>\n",
       "      <td>39</td>\n",
       "      <td>1</td>\n",
       "      <td>28.0</td>\n",
       "      <td>0</td>\n",
       "      <td>1-2 Year</td>\n",
       "      <td>Yes</td>\n",
       "      <td>33670.0</td>\n",
       "      <td>124.0</td>\n",
       "      <td>133</td>\n",
       "      <td>1</td>\n",
       "    </tr>\n",
       "    <tr>\n",
       "      <th>1</th>\n",
       "      <td>116379</td>\n",
       "      <td>Male</td>\n",
       "      <td>60</td>\n",
       "      <td>1</td>\n",
       "      <td>9.0</td>\n",
       "      <td>1</td>\n",
       "      <td>1-2 Year</td>\n",
       "      <td>Yes</td>\n",
       "      <td>32660.0</td>\n",
       "      <td>26.0</td>\n",
       "      <td>64</td>\n",
       "      <td>0</td>\n",
       "    </tr>\n",
       "    <tr>\n",
       "      <th>2</th>\n",
       "      <td>24159</td>\n",
       "      <td>Female</td>\n",
       "      <td>20</td>\n",
       "      <td>1</td>\n",
       "      <td>43.0</td>\n",
       "      <td>0</td>\n",
       "      <td>&lt; 1 Year</td>\n",
       "      <td>No</td>\n",
       "      <td>2630.0</td>\n",
       "      <td>160.0</td>\n",
       "      <td>283</td>\n",
       "      <td>0</td>\n",
       "    </tr>\n",
       "    <tr>\n",
       "      <th>3</th>\n",
       "      <td>129481</td>\n",
       "      <td>Female</td>\n",
       "      <td>22</td>\n",
       "      <td>1</td>\n",
       "      <td>47.0</td>\n",
       "      <td>0</td>\n",
       "      <td>&lt; 1 Year</td>\n",
       "      <td>Yes</td>\n",
       "      <td>32665.0</td>\n",
       "      <td>26.0</td>\n",
       "      <td>42</td>\n",
       "      <td>0</td>\n",
       "    </tr>\n",
       "    <tr>\n",
       "      <th>4</th>\n",
       "      <td>469280</td>\n",
       "      <td>Male</td>\n",
       "      <td>25</td>\n",
       "      <td>1</td>\n",
       "      <td>28.0</td>\n",
       "      <td>1</td>\n",
       "      <td>&lt; 1 Year</td>\n",
       "      <td>No</td>\n",
       "      <td>21602.0</td>\n",
       "      <td>152.0</td>\n",
       "      <td>293</td>\n",
       "      <td>0</td>\n",
       "    </tr>\n",
       "    <tr>\n",
       "      <th>5</th>\n",
       "      <td>219578</td>\n",
       "      <td>Female</td>\n",
       "      <td>34</td>\n",
       "      <td>1</td>\n",
       "      <td>28.0</td>\n",
       "      <td>0</td>\n",
       "      <td>1-2 Year</td>\n",
       "      <td>Yes</td>\n",
       "      <td>31853.0</td>\n",
       "      <td>157.0</td>\n",
       "      <td>34</td>\n",
       "      <td>1</td>\n",
       "    </tr>\n",
       "    <tr>\n",
       "      <th>6</th>\n",
       "      <td>298263</td>\n",
       "      <td>Female</td>\n",
       "      <td>20</td>\n",
       "      <td>1</td>\n",
       "      <td>35.0</td>\n",
       "      <td>1</td>\n",
       "      <td>&lt; 1 Year</td>\n",
       "      <td>No</td>\n",
       "      <td>31962.0</td>\n",
       "      <td>160.0</td>\n",
       "      <td>257</td>\n",
       "      <td>0</td>\n",
       "    </tr>\n",
       "    <tr>\n",
       "      <th>7</th>\n",
       "      <td>388131</td>\n",
       "      <td>Female</td>\n",
       "      <td>41</td>\n",
       "      <td>1</td>\n",
       "      <td>36.0</td>\n",
       "      <td>0</td>\n",
       "      <td>&gt; 2 Years</td>\n",
       "      <td>Yes</td>\n",
       "      <td>2630.0</td>\n",
       "      <td>124.0</td>\n",
       "      <td>103</td>\n",
       "      <td>1</td>\n",
       "    </tr>\n",
       "    <tr>\n",
       "      <th>8</th>\n",
       "      <td>46245</td>\n",
       "      <td>Female</td>\n",
       "      <td>26</td>\n",
       "      <td>1</td>\n",
       "      <td>29.0</td>\n",
       "      <td>1</td>\n",
       "      <td>&lt; 1 Year</td>\n",
       "      <td>No</td>\n",
       "      <td>2630.0</td>\n",
       "      <td>160.0</td>\n",
       "      <td>68</td>\n",
       "      <td>0</td>\n",
       "    </tr>\n",
       "    <tr>\n",
       "      <th>9</th>\n",
       "      <td>345554</td>\n",
       "      <td>Female</td>\n",
       "      <td>42</td>\n",
       "      <td>1</td>\n",
       "      <td>28.0</td>\n",
       "      <td>1</td>\n",
       "      <td>1-2 Year</td>\n",
       "      <td>No</td>\n",
       "      <td>40643.0</td>\n",
       "      <td>13.0</td>\n",
       "      <td>176</td>\n",
       "      <td>0</td>\n",
       "    </tr>\n",
       "  </tbody>\n",
       "</table>\n",
       "</div>"
      ],
      "text/plain": [
       "       id  Gender  Age  Driving_License  Region_Code  Previously_Insured  \\\n",
       "0  508077    Male   39                1         28.0                   0   \n",
       "1  116379    Male   60                1          9.0                   1   \n",
       "2   24159  Female   20                1         43.0                   0   \n",
       "3  129481  Female   22                1         47.0                   0   \n",
       "4  469280    Male   25                1         28.0                   1   \n",
       "5  219578  Female   34                1         28.0                   0   \n",
       "6  298263  Female   20                1         35.0                   1   \n",
       "7  388131  Female   41                1         36.0                   0   \n",
       "8   46245  Female   26                1         29.0                   1   \n",
       "9  345554  Female   42                1         28.0                   1   \n",
       "\n",
       "  Vehicle_Age Vehicle_Damage  Annual_Premium  Policy_Sales_Channel  Vintage  \\\n",
       "0    1-2 Year            Yes         33670.0                 124.0      133   \n",
       "1    1-2 Year            Yes         32660.0                  26.0       64   \n",
       "2    < 1 Year             No          2630.0                 160.0      283   \n",
       "3    < 1 Year            Yes         32665.0                  26.0       42   \n",
       "4    < 1 Year             No         21602.0                 152.0      293   \n",
       "5    1-2 Year            Yes         31853.0                 157.0       34   \n",
       "6    < 1 Year             No         31962.0                 160.0      257   \n",
       "7   > 2 Years            Yes          2630.0                 124.0      103   \n",
       "8    < 1 Year             No          2630.0                 160.0       68   \n",
       "9    1-2 Year             No         40643.0                  13.0      176   \n",
       "\n",
       "   Response  \n",
       "0         1  \n",
       "1         0  \n",
       "2         0  \n",
       "3         0  \n",
       "4         0  \n",
       "5         1  \n",
       "6         0  \n",
       "7         1  \n",
       "8         0  \n",
       "9         0  "
      ]
     },
     "execution_count": 3,
     "metadata": {},
     "output_type": "execute_result"
    }
   ],
   "source": [
    "#View the data\n",
    "train.head(10)"
   ]
  },
  {
   "cell_type": "code",
   "execution_count": 4,
   "id": "2daa99c1",
   "metadata": {
    "execution": {
     "iopub.execute_input": "2022-12-28T19:40:35.570682Z",
     "iopub.status.busy": "2022-12-28T19:40:35.570191Z",
     "iopub.status.idle": "2022-12-28T19:40:35.579453Z",
     "shell.execute_reply": "2022-12-28T19:40:35.578408Z"
    },
    "id": "GgRzgk2vvO8d",
    "outputId": "6d34074e-2021-499e-910d-e2b3926f6c54",
    "papermill": {
     "duration": 0.024308,
     "end_time": "2022-12-28T19:40:35.581722",
     "exception": false,
     "start_time": "2022-12-28T19:40:35.557414",
     "status": "completed"
    },
    "tags": []
   },
   "outputs": [
    {
     "data": {
      "text/plain": [
       "'Number of rows (clients): 244578'"
      ]
     },
     "metadata": {},
     "output_type": "display_data"
    },
    {
     "data": {
      "text/plain": [
       "'Number of columns (characteristics): 12'"
      ]
     },
     "metadata": {},
     "output_type": "display_data"
    }
   ],
   "source": [
    "display(f'Number of rows (clients): {train.shape[0]}')\n",
    "display(f'Number of columns (characteristics): {train.shape[1]}')"
   ]
  },
  {
   "cell_type": "code",
   "execution_count": 5,
   "id": "3b41f60f",
   "metadata": {
    "execution": {
     "iopub.execute_input": "2022-12-28T19:40:35.605473Z",
     "iopub.status.busy": "2022-12-28T19:40:35.604653Z",
     "iopub.status.idle": "2022-12-28T19:40:35.773818Z",
     "shell.execute_reply": "2022-12-28T19:40:35.772695Z"
    },
    "id": "tUJYtgfaB9XP",
    "outputId": "311b6728-d6da-485a-fe3d-7452459e8a88",
    "papermill": {
     "duration": 0.183843,
     "end_time": "2022-12-28T19:40:35.776188",
     "exception": false,
     "start_time": "2022-12-28T19:40:35.592345",
     "status": "completed"
    },
    "tags": []
   },
   "outputs": [
    {
     "data": {
      "text/html": [
       "<div>\n",
       "<style scoped>\n",
       "    .dataframe tbody tr th:only-of-type {\n",
       "        vertical-align: middle;\n",
       "    }\n",
       "\n",
       "    .dataframe tbody tr th {\n",
       "        vertical-align: top;\n",
       "    }\n",
       "\n",
       "    .dataframe thead th {\n",
       "        text-align: right;\n",
       "    }\n",
       "</style>\n",
       "<table border=\"1\" class=\"dataframe\">\n",
       "  <thead>\n",
       "    <tr style=\"text-align: right;\">\n",
       "      <th></th>\n",
       "      <th>id</th>\n",
       "      <th>Age</th>\n",
       "      <th>Driving_License</th>\n",
       "      <th>Region_Code</th>\n",
       "      <th>Previously_Insured</th>\n",
       "      <th>Annual_Premium</th>\n",
       "      <th>Policy_Sales_Channel</th>\n",
       "      <th>Vintage</th>\n",
       "      <th>Response</th>\n",
       "    </tr>\n",
       "  </thead>\n",
       "  <tbody>\n",
       "    <tr>\n",
       "      <th>count</th>\n",
       "      <td>244578.000000</td>\n",
       "      <td>244578.000000</td>\n",
       "      <td>244578.000000</td>\n",
       "      <td>244578.000000</td>\n",
       "      <td>244578.000000</td>\n",
       "      <td>244578.000000</td>\n",
       "      <td>244578.000000</td>\n",
       "      <td>244578.000000</td>\n",
       "      <td>244578.000000</td>\n",
       "    </tr>\n",
       "    <tr>\n",
       "      <th>mean</th>\n",
       "      <td>234645.165109</td>\n",
       "      <td>38.516400</td>\n",
       "      <td>0.998091</td>\n",
       "      <td>26.407007</td>\n",
       "      <td>0.489713</td>\n",
       "      <td>30705.566331</td>\n",
       "      <td>111.942566</td>\n",
       "      <td>154.291228</td>\n",
       "      <td>0.163617</td>\n",
       "    </tr>\n",
       "    <tr>\n",
       "      <th>std</th>\n",
       "      <td>139466.538310</td>\n",
       "      <td>15.221267</td>\n",
       "      <td>0.043655</td>\n",
       "      <td>13.179890</td>\n",
       "      <td>0.499895</td>\n",
       "      <td>16994.006743</td>\n",
       "      <td>54.304292</td>\n",
       "      <td>83.667275</td>\n",
       "      <td>0.369928</td>\n",
       "    </tr>\n",
       "    <tr>\n",
       "      <th>min</th>\n",
       "      <td>1.000000</td>\n",
       "      <td>20.000000</td>\n",
       "      <td>0.000000</td>\n",
       "      <td>0.000000</td>\n",
       "      <td>0.000000</td>\n",
       "      <td>2630.000000</td>\n",
       "      <td>1.000000</td>\n",
       "      <td>10.000000</td>\n",
       "      <td>0.000000</td>\n",
       "    </tr>\n",
       "    <tr>\n",
       "      <th>25%</th>\n",
       "      <td>115277.000000</td>\n",
       "      <td>25.000000</td>\n",
       "      <td>1.000000</td>\n",
       "      <td>15.000000</td>\n",
       "      <td>0.000000</td>\n",
       "      <td>24560.000000</td>\n",
       "      <td>26.000000</td>\n",
       "      <td>82.000000</td>\n",
       "      <td>0.000000</td>\n",
       "    </tr>\n",
       "    <tr>\n",
       "      <th>50%</th>\n",
       "      <td>230961.500000</td>\n",
       "      <td>36.000000</td>\n",
       "      <td>1.000000</td>\n",
       "      <td>28.000000</td>\n",
       "      <td>0.000000</td>\n",
       "      <td>31688.000000</td>\n",
       "      <td>147.000000</td>\n",
       "      <td>154.000000</td>\n",
       "      <td>0.000000</td>\n",
       "    </tr>\n",
       "    <tr>\n",
       "      <th>75%</th>\n",
       "      <td>345559.750000</td>\n",
       "      <td>49.000000</td>\n",
       "      <td>1.000000</td>\n",
       "      <td>35.000000</td>\n",
       "      <td>1.000000</td>\n",
       "      <td>39424.000000</td>\n",
       "      <td>152.000000</td>\n",
       "      <td>227.000000</td>\n",
       "      <td>0.000000</td>\n",
       "    </tr>\n",
       "    <tr>\n",
       "      <th>max</th>\n",
       "      <td>508144.000000</td>\n",
       "      <td>85.000000</td>\n",
       "      <td>1.000000</td>\n",
       "      <td>52.000000</td>\n",
       "      <td>1.000000</td>\n",
       "      <td>540165.000000</td>\n",
       "      <td>163.000000</td>\n",
       "      <td>299.000000</td>\n",
       "      <td>1.000000</td>\n",
       "    </tr>\n",
       "  </tbody>\n",
       "</table>\n",
       "</div>"
      ],
      "text/plain": [
       "                  id            Age  Driving_License    Region_Code  \\\n",
       "count  244578.000000  244578.000000    244578.000000  244578.000000   \n",
       "mean   234645.165109      38.516400         0.998091      26.407007   \n",
       "std    139466.538310      15.221267         0.043655      13.179890   \n",
       "min         1.000000      20.000000         0.000000       0.000000   \n",
       "25%    115277.000000      25.000000         1.000000      15.000000   \n",
       "50%    230961.500000      36.000000         1.000000      28.000000   \n",
       "75%    345559.750000      49.000000         1.000000      35.000000   \n",
       "max    508144.000000      85.000000         1.000000      52.000000   \n",
       "\n",
       "       Previously_Insured  Annual_Premium  Policy_Sales_Channel  \\\n",
       "count       244578.000000   244578.000000         244578.000000   \n",
       "mean             0.489713    30705.566331            111.942566   \n",
       "std              0.499895    16994.006743             54.304292   \n",
       "min              0.000000     2630.000000              1.000000   \n",
       "25%              0.000000    24560.000000             26.000000   \n",
       "50%              0.000000    31688.000000            147.000000   \n",
       "75%              1.000000    39424.000000            152.000000   \n",
       "max              1.000000   540165.000000            163.000000   \n",
       "\n",
       "             Vintage       Response  \n",
       "count  244578.000000  244578.000000  \n",
       "mean      154.291228       0.163617  \n",
       "std        83.667275       0.369928  \n",
       "min        10.000000       0.000000  \n",
       "25%        82.000000       0.000000  \n",
       "50%       154.000000       0.000000  \n",
       "75%       227.000000       0.000000  \n",
       "max       299.000000       1.000000  "
      ]
     },
     "execution_count": 5,
     "metadata": {},
     "output_type": "execute_result"
    }
   ],
   "source": [
    "train.describe()"
   ]
  },
  {
   "cell_type": "markdown",
   "id": "d252d72f",
   "metadata": {
    "id": "stDphN0t9beA",
    "papermill": {
     "duration": 0.01026,
     "end_time": "2022-12-28T19:40:35.797413",
     "exception": false,
     "start_time": "2022-12-28T19:40:35.787153",
     "status": "completed"
    },
    "tags": []
   },
   "source": [
    "# **Data Cleaning**"
   ]
  },
  {
   "cell_type": "code",
   "execution_count": 6,
   "id": "16841589",
   "metadata": {
    "execution": {
     "iopub.execute_input": "2022-12-28T19:40:35.820642Z",
     "iopub.status.busy": "2022-12-28T19:40:35.820175Z",
     "iopub.status.idle": "2022-12-28T19:40:35.856250Z",
     "shell.execute_reply": "2022-12-28T19:40:35.854960Z"
    },
    "id": "XkX0NjKPBjqc",
    "papermill": {
     "duration": 0.051552,
     "end_time": "2022-12-28T19:40:35.859587",
     "exception": false,
     "start_time": "2022-12-28T19:40:35.808035",
     "status": "completed"
    },
    "tags": []
   },
   "outputs": [],
   "source": [
    "# drop id column\n",
    "id = train['id']\n",
    "train = train.drop('id',axis=1)\n",
    "test = test.drop('id',axis=1)"
   ]
  },
  {
   "cell_type": "code",
   "execution_count": 7,
   "id": "419f8ce4",
   "metadata": {
    "execution": {
     "iopub.execute_input": "2022-12-28T19:40:35.883190Z",
     "iopub.status.busy": "2022-12-28T19:40:35.882701Z",
     "iopub.status.idle": "2022-12-28T19:40:35.947455Z",
     "shell.execute_reply": "2022-12-28T19:40:35.946087Z"
    },
    "id": "85xhZchW9U52",
    "outputId": "447f7fc3-d09d-4264-886b-d47b71e4f000",
    "papermill": {
     "duration": 0.079568,
     "end_time": "2022-12-28T19:40:35.949958",
     "exception": false,
     "start_time": "2022-12-28T19:40:35.870390",
     "status": "completed"
    },
    "tags": []
   },
   "outputs": [
    {
     "data": {
      "text/plain": [
       "Gender                  0\n",
       "Age                     0\n",
       "Driving_License         0\n",
       "Region_Code             0\n",
       "Previously_Insured      0\n",
       "Vehicle_Age             0\n",
       "Vehicle_Damage          0\n",
       "Annual_Premium          0\n",
       "Policy_Sales_Channel    0\n",
       "Vintage                 0\n",
       "Response                0\n",
       "dtype: int64"
      ]
     },
     "execution_count": 7,
     "metadata": {},
     "output_type": "execute_result"
    }
   ],
   "source": [
    "# check missing values in train set\n",
    "train.isnull().sum()"
   ]
  },
  {
   "cell_type": "markdown",
   "id": "d2f7d8af",
   "metadata": {
    "id": "aYcKC991oTiO",
    "papermill": {
     "duration": 0.01026,
     "end_time": "2022-12-28T19:40:35.970882",
     "exception": false,
     "start_time": "2022-12-28T19:40:35.960622",
     "status": "completed"
    },
    "tags": []
   },
   "source": [
    "no missing data\n",
    "nothing to replace"
   ]
  },
  {
   "cell_type": "code",
   "execution_count": 8,
   "id": "f04f680e",
   "metadata": {
    "execution": {
     "iopub.execute_input": "2022-12-28T19:40:35.994381Z",
     "iopub.status.busy": "2022-12-28T19:40:35.993908Z",
     "iopub.status.idle": "2022-12-28T19:40:36.191035Z",
     "shell.execute_reply": "2022-12-28T19:40:36.189565Z"
    },
    "id": "3MaV_QDjkkPf",
    "outputId": "d80ebbc8-5c91-42f0-85bb-2fc6d1aa1a87",
    "papermill": {
     "duration": 0.212363,
     "end_time": "2022-12-28T19:40:36.193902",
     "exception": false,
     "start_time": "2022-12-28T19:40:35.981539",
     "status": "completed"
    },
    "tags": []
   },
   "outputs": [
    {
     "data": {
      "text/plain": [
       "True"
      ]
     },
     "execution_count": 8,
     "metadata": {},
     "output_type": "execute_result"
    }
   ],
   "source": [
    "# check for duplicated data in train set\n",
    "train.duplicated().any()"
   ]
  },
  {
   "cell_type": "markdown",
   "id": "2c031822",
   "metadata": {
    "id": "vzsYjKyFoQ4l",
    "papermill": {
     "duration": 0.010588,
     "end_time": "2022-12-28T19:40:36.215469",
     "exception": false,
     "start_time": "2022-12-28T19:40:36.204881",
     "status": "completed"
    },
    "tags": []
   },
   "source": [
    "no duplicated data\n",
    "nothing to remove"
   ]
  },
  {
   "cell_type": "markdown",
   "id": "9e20d159",
   "metadata": {
    "id": "MeWyc-FBdhmJ",
    "papermill": {
     "duration": 0.010595,
     "end_time": "2022-12-28T19:40:36.237414",
     "exception": false,
     "start_time": "2022-12-28T19:40:36.226819",
     "status": "completed"
    },
    "tags": []
   },
   "source": [
    "# **Data exploration**"
   ]
  },
  {
   "cell_type": "code",
   "execution_count": 9,
   "id": "b3116dc8",
   "metadata": {
    "execution": {
     "iopub.execute_input": "2022-12-28T19:40:36.261284Z",
     "iopub.status.busy": "2022-12-28T19:40:36.260909Z",
     "iopub.status.idle": "2022-12-28T19:40:37.085031Z",
     "shell.execute_reply": "2022-12-28T19:40:37.083847Z"
    },
    "id": "vvrUL_Byj5Ad",
    "outputId": "e1e1ccd8-001c-4118-9f2a-cf24bf228c1c",
    "papermill": {
     "duration": 0.839724,
     "end_time": "2022-12-28T19:40:37.087944",
     "exception": false,
     "start_time": "2022-12-28T19:40:36.248220",
     "status": "completed"
    },
    "tags": []
   },
   "outputs": [
    {
     "data": {
      "text/plain": [
       "<AxesSubplot:>"
      ]
     },
     "execution_count": 9,
     "metadata": {},
     "output_type": "execute_result"
    },
    {
     "data": {
      "image/png": "[encoded data removed]",
      "text/plain": [
       "<Figure size 864x576 with 2 Axes>"
      ]
     },
     "metadata": {
      "needs_background": "light"
     },
     "output_type": "display_data"
    }
   ],
   "source": [
    "#Plotting a diagonal correlation matrix\n",
    "\n",
    "correlation_matrix = train.corr()\n",
    "\n",
    "plt.figure(figsize=(12,8))\n",
    "sns.heatmap(correlation_matrix,annot=True)"
   ]
  },
  {
   "cell_type": "code",
   "execution_count": 10,
   "id": "5583a954",
   "metadata": {
    "execution": {
     "iopub.execute_input": "2022-12-28T19:40:37.114447Z",
     "iopub.status.busy": "2022-12-28T19:40:37.113377Z",
     "iopub.status.idle": "2022-12-28T19:40:37.122868Z",
     "shell.execute_reply": "2022-12-28T19:40:37.121440Z"
    },
    "id": "pt__2Anplce4",
    "outputId": "0bd04505-fea4-4308-aa97-21699057f650",
    "papermill": {
     "duration": 0.025041,
     "end_time": "2022-12-28T19:40:37.125263",
     "exception": false,
     "start_time": "2022-12-28T19:40:37.100222",
     "status": "completed"
    },
    "tags": []
   },
   "outputs": [
    {
     "data": {
      "text/plain": [
       "Index(['Previously_Insured', 'Response'], dtype='object')"
      ]
     },
     "execution_count": 10,
     "metadata": {},
     "output_type": "execute_result"
    }
   ],
   "source": [
    "hig_corr_features = correlation_matrix.index[abs(correlation_matrix[\"Response\"]) >= 0.2]\n",
    "hig_corr_features"
   ]
  },
  {
   "cell_type": "code",
   "execution_count": 11,
   "id": "03acf731",
   "metadata": {
    "execution": {
     "iopub.execute_input": "2022-12-28T19:40:37.151661Z",
     "iopub.status.busy": "2022-12-28T19:40:37.151178Z",
     "iopub.status.idle": "2022-12-28T19:40:37.273950Z",
     "shell.execute_reply": "2022-12-28T19:40:37.272545Z"
    },
    "id": "f7JrA8lmlX1_",
    "outputId": "5d267a6e-321c-440f-a06a-25b80d54c122",
    "papermill": {
     "duration": 0.141466,
     "end_time": "2022-12-28T19:40:37.278783",
     "exception": false,
     "start_time": "2022-12-28T19:40:37.137317",
     "status": "completed"
    },
    "tags": []
   },
   "outputs": [
    {
     "data": {
      "image/png": "[encoded data removed]",
      "text/plain": [
       "<Figure size 432x288 with 1 Axes>"
      ]
     },
     "metadata": {},
     "output_type": "display_data"
    }
   ],
   "source": [
    "plt.pie(train['Response'].value_counts(),labels=train['Response'].value_counts().index,autopct=\"%0.1f%%\",explode=[0.1,0.2],radius=1);"
   ]
  },
  {
   "cell_type": "markdown",
   "id": "1e79236d",
   "metadata": {
    "id": "-sXeGl2moMoW",
    "papermill": {
     "duration": 0.031497,
     "end_time": "2022-12-28T19:40:37.342288",
     "exception": false,
     "start_time": "2022-12-28T19:40:37.310791",
     "status": "completed"
    },
    "tags": []
   },
   "source": [
    "There is class imbalance in the target variable\n"
   ]
  },
  {
   "cell_type": "code",
   "execution_count": 12,
   "id": "dd423ee7",
   "metadata": {
    "execution": {
     "iopub.execute_input": "2022-12-28T19:40:37.383483Z",
     "iopub.status.busy": "2022-12-28T19:40:37.382294Z",
     "iopub.status.idle": "2022-12-28T19:40:37.770262Z",
     "shell.execute_reply": "2022-12-28T19:40:37.769081Z"
    },
    "id": "jPueHmD4nRuu",
    "outputId": "e25d1e8a-7af9-49e1-8eff-e1171b696d85",
    "papermill": {
     "duration": 0.404805,
     "end_time": "2022-12-28T19:40:37.773137",
     "exception": false,
     "start_time": "2022-12-28T19:40:37.368332",
     "status": "completed"
    },
    "tags": []
   },
   "outputs": [
    {
     "data": {
      "image/png": "[encoded data removed]",
      "text/plain": [
       "<Figure size 432x288 with 1 Axes>"
      ]
     },
     "metadata": {
      "needs_background": "light"
     },
     "output_type": "display_data"
    }
   ],
   "source": [
    "vehicle_Damage=train.groupby('Vehicle_Damage')['Response'].mean()\n",
    "sns.countplot(x='Vehicle_Damage',data=train,order=vehicle_Damage.index);"
   ]
  },
  {
   "cell_type": "markdown",
   "id": "ef6dc3a5",
   "metadata": {
    "id": "vF7_HUUYoeAJ",
    "papermill": {
     "duration": 0.012817,
     "end_time": "2022-12-28T19:40:37.799197",
     "exception": false,
     "start_time": "2022-12-28T19:40:37.786380",
     "status": "completed"
    },
    "tags": []
   },
   "source": [
    "People with previously damaged vehicels have much higher chances of buying insurance."
   ]
  },
  {
   "cell_type": "code",
   "execution_count": 13,
   "id": "d774f27c",
   "metadata": {
    "execution": {
     "iopub.execute_input": "2022-12-28T19:40:37.826739Z",
     "iopub.status.busy": "2022-12-28T19:40:37.826313Z",
     "iopub.status.idle": "2022-12-28T19:40:38.050314Z",
     "shell.execute_reply": "2022-12-28T19:40:38.048927Z"
    },
    "id": "SwWyk-xroEVc",
    "outputId": "cf390ecb-67ce-4313-aebf-e7a00cbce2c7",
    "papermill": {
     "duration": 0.241031,
     "end_time": "2022-12-28T19:40:38.053228",
     "exception": false,
     "start_time": "2022-12-28T19:40:37.812197",
     "status": "completed"
    },
    "tags": []
   },
   "outputs": [
    {
     "data": {
      "image/png": "[encoded data removed]",
      "text/plain": [
       "<Figure size 432x288 with 1 Axes>"
      ]
     },
     "metadata": {
      "needs_background": "light"
     },
     "output_type": "display_data"
    }
   ],
   "source": [
    "previously_Insured=train.groupby('Previously_Insured')['Response'].mean()\n",
    "sns.countplot(x='Previously_Insured',data=train,order=previously_Insured.index);"
   ]
  },
  {
   "cell_type": "markdown",
   "id": "2ef2f22b",
   "metadata": {
    "id": "SqFrCNAeobTB",
    "papermill": {
     "duration": 0.012567,
     "end_time": "2022-12-28T19:40:38.078874",
     "exception": false,
     "start_time": "2022-12-28T19:40:38.066307",
     "status": "completed"
    },
    "tags": []
   },
   "source": [
    "The majority of respondents who shown interest in insurance,do not have their vehicles insured previously."
   ]
  },
  {
   "cell_type": "code",
   "execution_count": 14,
   "id": "c9510588",
   "metadata": {
    "execution": {
     "iopub.execute_input": "2022-12-28T19:40:38.106322Z",
     "iopub.status.busy": "2022-12-28T19:40:38.105926Z",
     "iopub.status.idle": "2022-12-28T19:40:38.501123Z",
     "shell.execute_reply": "2022-12-28T19:40:38.500260Z"
    },
    "id": "kdD8OjPLpsHd",
    "outputId": "85931bfe-0379-4d2b-e758-72ce43d27cd1",
    "papermill": {
     "duration": 0.411794,
     "end_time": "2022-12-28T19:40:38.503451",
     "exception": false,
     "start_time": "2022-12-28T19:40:38.091657",
     "status": "completed"
    },
    "tags": []
   },
   "outputs": [
    {
     "data": {
      "image/png": "[encoded data removed]",
      "text/plain": [
       "<Figure size 432x288 with 1 Axes>"
      ]
     },
     "metadata": {
      "needs_background": "light"
     },
     "output_type": "display_data"
    }
   ],
   "source": [
    "vehicle_Age=train.groupby('Vehicle_Age')['Response'].mean()\n",
    "sns.countplot(x='Vehicle_Age',data=train ,order=vehicle_Age.index);"
   ]
  },
  {
   "cell_type": "markdown",
   "id": "4c5877d5",
   "metadata": {
    "id": "G_I9QsZUqpIK",
    "papermill": {
     "duration": 0.013144,
     "end_time": "2022-12-28T19:40:38.531067",
     "exception": false,
     "start_time": "2022-12-28T19:40:38.517923",
     "status": "completed"
    },
    "tags": []
   },
   "source": [
    "respondents with vehicule age of 0-2 show greater interest."
   ]
  },
  {
   "cell_type": "code",
   "execution_count": 15,
   "id": "64437588",
   "metadata": {
    "execution": {
     "iopub.execute_input": "2022-12-28T19:40:38.559997Z",
     "iopub.status.busy": "2022-12-28T19:40:38.559557Z",
     "iopub.status.idle": "2022-12-28T19:40:39.339761Z",
     "shell.execute_reply": "2022-12-28T19:40:39.338428Z"
    },
    "id": "07XvO75gdAXb",
    "outputId": "c1fee8d4-151e-4ff7-b276-3d4fa985b302",
    "papermill": {
     "duration": 0.797535,
     "end_time": "2022-12-28T19:40:39.342378",
     "exception": false,
     "start_time": "2022-12-28T19:40:38.544843",
     "status": "completed"
    },
    "tags": []
   },
   "outputs": [
    {
     "data": {
      "text/plain": [
       "<seaborn.axisgrid.FacetGrid at 0x26ec900ad30>"
      ]
     },
     "execution_count": 15,
     "metadata": {},
     "output_type": "execute_result"
    },
    {
     "data": {
      "image/png": "[encoded data removed]",
      "text/plain": [
       "<Figure size 360x360 with 1 Axes>"
      ]
     },
     "metadata": {
      "needs_background": "light"
     },
     "output_type": "display_data"
    }
   ],
   "source": [
    "#Age Distribution of Customers\n",
    "sns.displot(train.Age)"
   ]
  },
  {
   "cell_type": "markdown",
   "id": "05998337",
   "metadata": {
    "id": "wQZY_UyTq9xd",
    "papermill": {
     "duration": 0.013481,
     "end_time": "2022-12-28T19:40:39.370032",
     "exception": false,
     "start_time": "2022-12-28T19:40:39.356551",
     "status": "completed"
    },
    "tags": []
   },
   "source": [
    "Age variable has non gaussian distribution"
   ]
  },
  {
   "cell_type": "code",
   "execution_count": 16,
   "id": "bc8d822f",
   "metadata": {
    "execution": {
     "iopub.execute_input": "2022-12-28T19:40:39.399653Z",
     "iopub.status.busy": "2022-12-28T19:40:39.398889Z",
     "iopub.status.idle": "2022-12-28T19:40:39.829865Z",
     "shell.execute_reply": "2022-12-28T19:40:39.828771Z"
    },
    "id": "pSVHBiHNeL6x",
    "outputId": "45b29a52-7b34-4f42-aee4-5eafc534756c",
    "papermill": {
     "duration": 0.448534,
     "end_time": "2022-12-28T19:40:39.832314",
     "exception": false,
     "start_time": "2022-12-28T19:40:39.383780",
     "status": "completed"
    },
    "tags": []
   },
   "outputs": [
    {
     "data": {
      "text/plain": [
       "<AxesSubplot:xlabel='Vehicle_Age', ylabel='count'>"
      ]
     },
     "execution_count": 16,
     "metadata": {},
     "output_type": "execute_result"
    },
    {
     "data": {
      "image/png": "[encoded data removed]",
      "text/plain": [
       "<Figure size 432x288 with 1 Axes>"
      ]
     },
     "metadata": {
      "needs_background": "light"
     },
     "output_type": "display_data"
    }
   ],
   "source": [
    "#Vehicle Age\n",
    "sns.countplot(x=train.Vehicle_Age)"
   ]
  },
  {
   "cell_type": "markdown",
   "id": "d6d3a494",
   "metadata": {
    "id": "K0NbbJkvrEu2",
    "papermill": {
     "duration": 0.01461,
     "end_time": "2022-12-28T19:40:39.861980",
     "exception": false,
     "start_time": "2022-12-28T19:40:39.847370",
     "status": "completed"
    },
    "tags": []
   },
   "source": [
    "# **Data Preprocessing**"
   ]
  },
  {
   "cell_type": "code",
   "execution_count": 17,
   "id": "e90eb24c",
   "metadata": {
    "execution": {
     "iopub.execute_input": "2022-12-28T19:40:40.567972Z",
     "iopub.status.busy": "2022-12-28T19:40:40.567565Z",
     "iopub.status.idle": "2022-12-28T19:40:40.668189Z",
     "shell.execute_reply": "2022-12-28T19:40:40.667121Z"
    },
    "id": "-UQOEnqlhZAX",
    "papermill": {
     "duration": 0.118501,
     "end_time": "2022-12-28T19:40:40.671052",
     "exception": false,
     "start_time": "2022-12-28T19:40:40.552551",
     "status": "completed"
    },
    "tags": []
   },
   "outputs": [],
   "source": [
    "import numpy as np\n",
    "Q1 = np.percentile(train['Annual_Premium'], 25, interpolation = 'midpoint')\n",
    "Q3 = np.percentile(train['Annual_Premium'], 75, interpolation = 'midpoint')\n",
    "IQR = Q3 - Q1\n",
    "\n",
    "upper_bound = Q3 + 1.5 * IQR\n",
    "lower_bound = Q1 - 1.5 * IQR\n",
    "#replace outliers with the mean of 'EXPERIENCE_LENGTH' col\n",
    "test['Annual_Premium'] = test['Annual_Premium'].where((test['Annual_Premium'] >= lower_bound) & (test['Annual_Premium'] <= upper_bound), np.log1p(test['Annual_Premium']))\n",
    "train['Annual_Premium'] = train['Annual_Premium'].where((train['Annual_Premium'] >= lower_bound) & (train['Annual_Premium'] <= upper_bound), np.log1p(train['Annual_Premium']))"
   ]
  },
  {
   "cell_type": "code",
   "execution_count": 18,
   "id": "9c7cb873",
   "metadata": {},
   "outputs": [
    {
     "data": {
      "text/html": [
       "<div>\n",
       "<style scoped>\n",
       "    .dataframe tbody tr th:only-of-type {\n",
       "        vertical-align: middle;\n",
       "    }\n",
       "\n",
       "    .dataframe tbody tr th {\n",
       "        vertical-align: top;\n",
       "    }\n",
       "\n",
       "    .dataframe thead th {\n",
       "        text-align: right;\n",
       "    }\n",
       "</style>\n",
       "<table border=\"1\" class=\"dataframe\">\n",
       "  <thead>\n",
       "    <tr style=\"text-align: right;\">\n",
       "      <th></th>\n",
       "      <th>Gender</th>\n",
       "      <th>Age</th>\n",
       "      <th>Driving_License</th>\n",
       "      <th>Region_Code</th>\n",
       "      <th>Previously_Insured</th>\n",
       "      <th>Vehicle_Age</th>\n",
       "      <th>Vehicle_Damage</th>\n",
       "      <th>Annual_Premium</th>\n",
       "      <th>Policy_Sales_Channel</th>\n",
       "      <th>Vintage</th>\n",
       "      <th>Response</th>\n",
       "      <th>Gender_Female</th>\n",
       "      <th>Gender_Male</th>\n",
       "      <th>Vehicle_Age_1-2 Year</th>\n",
       "      <th>Vehicle_Age_&lt; 1 Year</th>\n",
       "      <th>Vehicle_Age_&gt; 2 Years</th>\n",
       "      <th>Vehicle_Damage_No</th>\n",
       "      <th>Vehicle_Damage_Yes</th>\n",
       "    </tr>\n",
       "  </thead>\n",
       "  <tbody>\n",
       "    <tr>\n",
       "      <th>0</th>\n",
       "      <td>Male</td>\n",
       "      <td>39</td>\n",
       "      <td>1</td>\n",
       "      <td>28.0</td>\n",
       "      <td>0</td>\n",
       "      <td>1-2 Year</td>\n",
       "      <td>Yes</td>\n",
       "      <td>33670.0</td>\n",
       "      <td>124.0</td>\n",
       "      <td>133</td>\n",
       "      <td>1</td>\n",
       "      <td>0.0</td>\n",
       "      <td>1.0</td>\n",
       "      <td>1.0</td>\n",
       "      <td>0.0</td>\n",
       "      <td>0.0</td>\n",
       "      <td>0.0</td>\n",
       "      <td>1.0</td>\n",
       "    </tr>\n",
       "    <tr>\n",
       "      <th>1</th>\n",
       "      <td>Male</td>\n",
       "      <td>60</td>\n",
       "      <td>1</td>\n",
       "      <td>9.0</td>\n",
       "      <td>1</td>\n",
       "      <td>1-2 Year</td>\n",
       "      <td>Yes</td>\n",
       "      <td>32660.0</td>\n",
       "      <td>26.0</td>\n",
       "      <td>64</td>\n",
       "      <td>0</td>\n",
       "      <td>0.0</td>\n",
       "      <td>1.0</td>\n",
       "      <td>1.0</td>\n",
       "      <td>0.0</td>\n",
       "      <td>0.0</td>\n",
       "      <td>0.0</td>\n",
       "      <td>1.0</td>\n",
       "    </tr>\n",
       "    <tr>\n",
       "      <th>2</th>\n",
       "      <td>Female</td>\n",
       "      <td>20</td>\n",
       "      <td>1</td>\n",
       "      <td>43.0</td>\n",
       "      <td>0</td>\n",
       "      <td>&lt; 1 Year</td>\n",
       "      <td>No</td>\n",
       "      <td>2630.0</td>\n",
       "      <td>160.0</td>\n",
       "      <td>283</td>\n",
       "      <td>0</td>\n",
       "      <td>1.0</td>\n",
       "      <td>0.0</td>\n",
       "      <td>0.0</td>\n",
       "      <td>1.0</td>\n",
       "      <td>0.0</td>\n",
       "      <td>1.0</td>\n",
       "      <td>0.0</td>\n",
       "    </tr>\n",
       "    <tr>\n",
       "      <th>3</th>\n",
       "      <td>Female</td>\n",
       "      <td>22</td>\n",
       "      <td>1</td>\n",
       "      <td>47.0</td>\n",
       "      <td>0</td>\n",
       "      <td>&lt; 1 Year</td>\n",
       "      <td>Yes</td>\n",
       "      <td>32665.0</td>\n",
       "      <td>26.0</td>\n",
       "      <td>42</td>\n",
       "      <td>0</td>\n",
       "      <td>1.0</td>\n",
       "      <td>0.0</td>\n",
       "      <td>0.0</td>\n",
       "      <td>1.0</td>\n",
       "      <td>0.0</td>\n",
       "      <td>0.0</td>\n",
       "      <td>1.0</td>\n",
       "    </tr>\n",
       "    <tr>\n",
       "      <th>4</th>\n",
       "      <td>Male</td>\n",
       "      <td>25</td>\n",
       "      <td>1</td>\n",
       "      <td>28.0</td>\n",
       "      <td>1</td>\n",
       "      <td>&lt; 1 Year</td>\n",
       "      <td>No</td>\n",
       "      <td>21602.0</td>\n",
       "      <td>152.0</td>\n",
       "      <td>293</td>\n",
       "      <td>0</td>\n",
       "      <td>0.0</td>\n",
       "      <td>1.0</td>\n",
       "      <td>0.0</td>\n",
       "      <td>1.0</td>\n",
       "      <td>0.0</td>\n",
       "      <td>1.0</td>\n",
       "      <td>0.0</td>\n",
       "    </tr>\n",
       "    <tr>\n",
       "      <th>...</th>\n",
       "      <td>...</td>\n",
       "      <td>...</td>\n",
       "      <td>...</td>\n",
       "      <td>...</td>\n",
       "      <td>...</td>\n",
       "      <td>...</td>\n",
       "      <td>...</td>\n",
       "      <td>...</td>\n",
       "      <td>...</td>\n",
       "      <td>...</td>\n",
       "      <td>...</td>\n",
       "      <td>...</td>\n",
       "      <td>...</td>\n",
       "      <td>...</td>\n",
       "      <td>...</td>\n",
       "      <td>...</td>\n",
       "      <td>...</td>\n",
       "      <td>...</td>\n",
       "    </tr>\n",
       "    <tr>\n",
       "      <th>244573</th>\n",
       "      <td>Male</td>\n",
       "      <td>24</td>\n",
       "      <td>1</td>\n",
       "      <td>28.0</td>\n",
       "      <td>0</td>\n",
       "      <td>1-2 Year</td>\n",
       "      <td>Yes</td>\n",
       "      <td>34733.0</td>\n",
       "      <td>122.0</td>\n",
       "      <td>99</td>\n",
       "      <td>0</td>\n",
       "      <td>0.0</td>\n",
       "      <td>1.0</td>\n",
       "      <td>1.0</td>\n",
       "      <td>0.0</td>\n",
       "      <td>0.0</td>\n",
       "      <td>0.0</td>\n",
       "      <td>1.0</td>\n",
       "    </tr>\n",
       "    <tr>\n",
       "      <th>244574</th>\n",
       "      <td>Female</td>\n",
       "      <td>20</td>\n",
       "      <td>1</td>\n",
       "      <td>3.0</td>\n",
       "      <td>0</td>\n",
       "      <td>&lt; 1 Year</td>\n",
       "      <td>Yes</td>\n",
       "      <td>33810.0</td>\n",
       "      <td>160.0</td>\n",
       "      <td>10</td>\n",
       "      <td>0</td>\n",
       "      <td>1.0</td>\n",
       "      <td>0.0</td>\n",
       "      <td>0.0</td>\n",
       "      <td>1.0</td>\n",
       "      <td>0.0</td>\n",
       "      <td>0.0</td>\n",
       "      <td>1.0</td>\n",
       "    </tr>\n",
       "    <tr>\n",
       "      <th>244575</th>\n",
       "      <td>Male</td>\n",
       "      <td>38</td>\n",
       "      <td>1</td>\n",
       "      <td>28.0</td>\n",
       "      <td>1</td>\n",
       "      <td>1-2 Year</td>\n",
       "      <td>No</td>\n",
       "      <td>33419.0</td>\n",
       "      <td>122.0</td>\n",
       "      <td>164</td>\n",
       "      <td>0</td>\n",
       "      <td>0.0</td>\n",
       "      <td>1.0</td>\n",
       "      <td>1.0</td>\n",
       "      <td>0.0</td>\n",
       "      <td>0.0</td>\n",
       "      <td>1.0</td>\n",
       "      <td>0.0</td>\n",
       "    </tr>\n",
       "    <tr>\n",
       "      <th>244576</th>\n",
       "      <td>Female</td>\n",
       "      <td>33</td>\n",
       "      <td>1</td>\n",
       "      <td>28.0</td>\n",
       "      <td>1</td>\n",
       "      <td>1-2 Year</td>\n",
       "      <td>No</td>\n",
       "      <td>47285.0</td>\n",
       "      <td>124.0</td>\n",
       "      <td>166</td>\n",
       "      <td>0</td>\n",
       "      <td>1.0</td>\n",
       "      <td>0.0</td>\n",
       "      <td>1.0</td>\n",
       "      <td>0.0</td>\n",
       "      <td>0.0</td>\n",
       "      <td>1.0</td>\n",
       "      <td>0.0</td>\n",
       "    </tr>\n",
       "    <tr>\n",
       "      <th>244577</th>\n",
       "      <td>Female</td>\n",
       "      <td>23</td>\n",
       "      <td>1</td>\n",
       "      <td>30.0</td>\n",
       "      <td>1</td>\n",
       "      <td>&lt; 1 Year</td>\n",
       "      <td>No</td>\n",
       "      <td>25349.0</td>\n",
       "      <td>152.0</td>\n",
       "      <td>145</td>\n",
       "      <td>0</td>\n",
       "      <td>1.0</td>\n",
       "      <td>0.0</td>\n",
       "      <td>0.0</td>\n",
       "      <td>1.0</td>\n",
       "      <td>0.0</td>\n",
       "      <td>1.0</td>\n",
       "      <td>0.0</td>\n",
       "    </tr>\n",
       "  </tbody>\n",
       "</table>\n",
       "<p>244578 rows × 18 columns</p>\n",
       "</div>"
      ],
      "text/plain": [
       "        Gender  Age  Driving_License  Region_Code  Previously_Insured  \\\n",
       "0         Male   39                1         28.0                   0   \n",
       "1         Male   60                1          9.0                   1   \n",
       "2       Female   20                1         43.0                   0   \n",
       "3       Female   22                1         47.0                   0   \n",
       "4         Male   25                1         28.0                   1   \n",
       "...        ...  ...              ...          ...                 ...   \n",
       "244573    Male   24                1         28.0                   0   \n",
       "244574  Female   20                1          3.0                   0   \n",
       "244575    Male   38                1         28.0                   1   \n",
       "244576  Female   33                1         28.0                   1   \n",
       "244577  Female   23                1         30.0                   1   \n",
       "\n",
       "       Vehicle_Age Vehicle_Damage  Annual_Premium  Policy_Sales_Channel  \\\n",
       "0         1-2 Year            Yes         33670.0                 124.0   \n",
       "1         1-2 Year            Yes         32660.0                  26.0   \n",
       "2         < 1 Year             No          2630.0                 160.0   \n",
       "3         < 1 Year            Yes         32665.0                  26.0   \n",
       "4         < 1 Year             No         21602.0                 152.0   \n",
       "...            ...            ...             ...                   ...   \n",
       "244573    1-2 Year            Yes         34733.0                 122.0   \n",
       "244574    < 1 Year            Yes         33810.0                 160.0   \n",
       "244575    1-2 Year             No         33419.0                 122.0   \n",
       "244576    1-2 Year             No         47285.0                 124.0   \n",
       "244577    < 1 Year             No         25349.0                 152.0   \n",
       "\n",
       "        Vintage  Response  Gender_Female  Gender_Male  Vehicle_Age_1-2 Year  \\\n",
       "0           133         1            0.0          1.0                   1.0   \n",
       "1            64         0            0.0          1.0                   1.0   \n",
       "2           283         0            1.0          0.0                   0.0   \n",
       "3            42         0            1.0          0.0                   0.0   \n",
       "4           293         0            0.0          1.0                   0.0   \n",
       "...         ...       ...            ...          ...                   ...   \n",
       "244573       99         0            0.0          1.0                   1.0   \n",
       "244574       10         0            1.0          0.0                   0.0   \n",
       "244575      164         0            0.0          1.0                   1.0   \n",
       "244576      166         0            1.0          0.0                   1.0   \n",
       "244577      145         0            1.0          0.0                   0.0   \n",
       "\n",
       "        Vehicle_Age_< 1 Year  Vehicle_Age_> 2 Years  Vehicle_Damage_No  \\\n",
       "0                        0.0                    0.0                0.0   \n",
       "1                        0.0                    0.0                0.0   \n",
       "2                        1.0                    0.0                1.0   \n",
       "3                        1.0                    0.0                0.0   \n",
       "4                        1.0                    0.0                1.0   \n",
       "...                      ...                    ...                ...   \n",
       "244573                   0.0                    0.0                0.0   \n",
       "244574                   1.0                    0.0                0.0   \n",
       "244575                   0.0                    0.0                1.0   \n",
       "244576                   0.0                    0.0                1.0   \n",
       "244577                   1.0                    0.0                1.0   \n",
       "\n",
       "        Vehicle_Damage_Yes  \n",
       "0                      1.0  \n",
       "1                      1.0  \n",
       "2                      0.0  \n",
       "3                      1.0  \n",
       "4                      0.0  \n",
       "...                    ...  \n",
       "244573                 1.0  \n",
       "244574                 1.0  \n",
       "244575                 0.0  \n",
       "244576                 0.0  \n",
       "244577                 0.0  \n",
       "\n",
       "[244578 rows x 18 columns]"
      ]
     },
     "execution_count": 18,
     "metadata": {},
     "output_type": "execute_result"
    }
   ],
   "source": [
    "from sklearn.preprocessing import OneHotEncoder\n",
    "# Initialize the OneHotEncoder object\n",
    "onehot_enc = OneHotEncoder()\n",
    "\n",
    "# Fit and transform the OneHotEncoder object on the categorical variables\n",
    "onehot = onehot_enc.fit_transform(train[['Gender','Vehicle_Age','Vehicle_Damage']])\n",
    "\n",
    "# Convert the one-hot encoded sparse matrix to a dense array and create a new dataframe\n",
    "onehot_df = pd.DataFrame(onehot.toarray(), columns=onehot_enc.get_feature_names_out(input_features=['Gender','Vehicle_Age','Vehicle_Damage']))\n",
    "\n",
    "\n",
    "# Print the one-hot encoded variables\n",
    "train = pd.concat([train, onehot_df], axis=1)\n",
    "train"
   ]
  },
  {
   "cell_type": "code",
   "execution_count": 19,
   "id": "589ff68e",
   "metadata": {},
   "outputs": [],
   "source": [
    "train = train.drop(['Gender','Vehicle_Age','Vehicle_Damage'],axis=1)"
   ]
  },
  {
   "cell_type": "code",
   "execution_count": null,
   "id": "c5088a76",
   "metadata": {},
   "outputs": [],
   "source": []
  },
  {
   "cell_type": "code",
   "execution_count": 20,
   "id": "c2abd90c",
   "metadata": {
    "execution": {
     "iopub.execute_input": "2022-12-28T19:40:40.701043Z",
     "iopub.status.busy": "2022-12-28T19:40:40.700654Z",
     "iopub.status.idle": "2022-12-28T19:40:40.882181Z",
     "shell.execute_reply": "2022-12-28T19:40:40.880920Z"
    },
    "id": "R4QLjDZfZioO",
    "outputId": "7c58db96-abf6-4685-8e3e-679e4e0ab027",
    "papermill": {
     "duration": 0.199232,
     "end_time": "2022-12-28T19:40:40.884626",
     "exception": false,
     "start_time": "2022-12-28T19:40:40.685394",
     "status": "completed"
    },
    "tags": []
   },
   "outputs": [
    {
     "data": {
      "text/html": [
       "<div>\n",
       "<style scoped>\n",
       "    .dataframe tbody tr th:only-of-type {\n",
       "        vertical-align: middle;\n",
       "    }\n",
       "\n",
       "    .dataframe tbody tr th {\n",
       "        vertical-align: top;\n",
       "    }\n",
       "\n",
       "    .dataframe thead th {\n",
       "        text-align: right;\n",
       "    }\n",
       "</style>\n",
       "<table border=\"1\" class=\"dataframe\">\n",
       "  <thead>\n",
       "    <tr style=\"text-align: right;\">\n",
       "      <th></th>\n",
       "      <th>Age</th>\n",
       "      <th>Driving_License</th>\n",
       "      <th>Region_Code</th>\n",
       "      <th>Previously_Insured</th>\n",
       "      <th>Annual_Premium</th>\n",
       "      <th>Policy_Sales_Channel</th>\n",
       "      <th>Vintage</th>\n",
       "      <th>Response</th>\n",
       "      <th>Gender_Female</th>\n",
       "      <th>Gender_Male</th>\n",
       "      <th>Vehicle_Age_1-2 Year</th>\n",
       "      <th>Vehicle_Age_&lt; 1 Year</th>\n",
       "      <th>Vehicle_Age_&gt; 2 Years</th>\n",
       "      <th>Vehicle_Damage_No</th>\n",
       "      <th>Vehicle_Damage_Yes</th>\n",
       "    </tr>\n",
       "  </thead>\n",
       "  <tbody>\n",
       "    <tr>\n",
       "      <th>count</th>\n",
       "      <td>244578.000000</td>\n",
       "      <td>244578.000000</td>\n",
       "      <td>244578.000000</td>\n",
       "      <td>244578.000000</td>\n",
       "      <td>244578.000000</td>\n",
       "      <td>244578.000000</td>\n",
       "      <td>244578.000000</td>\n",
       "      <td>244578.000000</td>\n",
       "      <td>244578.000000</td>\n",
       "      <td>244578.000000</td>\n",
       "      <td>244578.000000</td>\n",
       "      <td>244578.000000</td>\n",
       "      <td>244578.000000</td>\n",
       "      <td>244578.000000</td>\n",
       "      <td>244578.000000</td>\n",
       "    </tr>\n",
       "    <tr>\n",
       "      <th>mean</th>\n",
       "      <td>38.516400</td>\n",
       "      <td>0.998091</td>\n",
       "      <td>26.407007</td>\n",
       "      <td>0.489713</td>\n",
       "      <td>28614.244737</td>\n",
       "      <td>111.942566</td>\n",
       "      <td>154.291228</td>\n",
       "      <td>0.163617</td>\n",
       "      <td>0.461979</td>\n",
       "      <td>0.538021</td>\n",
       "      <td>0.523600</td>\n",
       "      <td>0.435992</td>\n",
       "      <td>0.040408</td>\n",
       "      <td>0.519540</td>\n",
       "      <td>0.480460</td>\n",
       "    </tr>\n",
       "    <tr>\n",
       "      <th>std</th>\n",
       "      <td>15.221267</td>\n",
       "      <td>0.043655</td>\n",
       "      <td>13.179890</td>\n",
       "      <td>0.499895</td>\n",
       "      <td>15158.053777</td>\n",
       "      <td>54.304292</td>\n",
       "      <td>83.667275</td>\n",
       "      <td>0.369928</td>\n",
       "      <td>0.498553</td>\n",
       "      <td>0.498553</td>\n",
       "      <td>0.499444</td>\n",
       "      <td>0.495887</td>\n",
       "      <td>0.196915</td>\n",
       "      <td>0.499619</td>\n",
       "      <td>0.499619</td>\n",
       "    </tr>\n",
       "    <tr>\n",
       "      <th>min</th>\n",
       "      <td>20.000000</td>\n",
       "      <td>0.000000</td>\n",
       "      <td>0.000000</td>\n",
       "      <td>0.000000</td>\n",
       "      <td>11.030477</td>\n",
       "      <td>1.000000</td>\n",
       "      <td>10.000000</td>\n",
       "      <td>0.000000</td>\n",
       "      <td>0.000000</td>\n",
       "      <td>0.000000</td>\n",
       "      <td>0.000000</td>\n",
       "      <td>0.000000</td>\n",
       "      <td>0.000000</td>\n",
       "      <td>0.000000</td>\n",
       "      <td>0.000000</td>\n",
       "    </tr>\n",
       "    <tr>\n",
       "      <th>25%</th>\n",
       "      <td>25.000000</td>\n",
       "      <td>1.000000</td>\n",
       "      <td>15.000000</td>\n",
       "      <td>0.000000</td>\n",
       "      <td>23354.000000</td>\n",
       "      <td>26.000000</td>\n",
       "      <td>82.000000</td>\n",
       "      <td>0.000000</td>\n",
       "      <td>0.000000</td>\n",
       "      <td>0.000000</td>\n",
       "      <td>0.000000</td>\n",
       "      <td>0.000000</td>\n",
       "      <td>0.000000</td>\n",
       "      <td>0.000000</td>\n",
       "      <td>0.000000</td>\n",
       "    </tr>\n",
       "    <tr>\n",
       "      <th>50%</th>\n",
       "      <td>36.000000</td>\n",
       "      <td>1.000000</td>\n",
       "      <td>28.000000</td>\n",
       "      <td>0.000000</td>\n",
       "      <td>30971.000000</td>\n",
       "      <td>147.000000</td>\n",
       "      <td>154.000000</td>\n",
       "      <td>0.000000</td>\n",
       "      <td>0.000000</td>\n",
       "      <td>1.000000</td>\n",
       "      <td>1.000000</td>\n",
       "      <td>0.000000</td>\n",
       "      <td>0.000000</td>\n",
       "      <td>1.000000</td>\n",
       "      <td>0.000000</td>\n",
       "    </tr>\n",
       "    <tr>\n",
       "      <th>75%</th>\n",
       "      <td>49.000000</td>\n",
       "      <td>1.000000</td>\n",
       "      <td>35.000000</td>\n",
       "      <td>1.000000</td>\n",
       "      <td>38361.000000</td>\n",
       "      <td>152.000000</td>\n",
       "      <td>227.000000</td>\n",
       "      <td>0.000000</td>\n",
       "      <td>1.000000</td>\n",
       "      <td>1.000000</td>\n",
       "      <td>1.000000</td>\n",
       "      <td>1.000000</td>\n",
       "      <td>0.000000</td>\n",
       "      <td>1.000000</td>\n",
       "      <td>1.000000</td>\n",
       "    </tr>\n",
       "    <tr>\n",
       "      <th>max</th>\n",
       "      <td>85.000000</td>\n",
       "      <td>1.000000</td>\n",
       "      <td>52.000000</td>\n",
       "      <td>1.000000</td>\n",
       "      <td>61718.000000</td>\n",
       "      <td>163.000000</td>\n",
       "      <td>299.000000</td>\n",
       "      <td>1.000000</td>\n",
       "      <td>1.000000</td>\n",
       "      <td>1.000000</td>\n",
       "      <td>1.000000</td>\n",
       "      <td>1.000000</td>\n",
       "      <td>1.000000</td>\n",
       "      <td>1.000000</td>\n",
       "      <td>1.000000</td>\n",
       "    </tr>\n",
       "  </tbody>\n",
       "</table>\n",
       "</div>"
      ],
      "text/plain": [
       "                 Age  Driving_License    Region_Code  Previously_Insured  \\\n",
       "count  244578.000000    244578.000000  244578.000000       244578.000000   \n",
       "mean       38.516400         0.998091      26.407007            0.489713   \n",
       "std        15.221267         0.043655      13.179890            0.499895   \n",
       "min        20.000000         0.000000       0.000000            0.000000   \n",
       "25%        25.000000         1.000000      15.000000            0.000000   \n",
       "50%        36.000000         1.000000      28.000000            0.000000   \n",
       "75%        49.000000         1.000000      35.000000            1.000000   \n",
       "max        85.000000         1.000000      52.000000            1.000000   \n",
       "\n",
       "       Annual_Premium  Policy_Sales_Channel        Vintage       Response  \\\n",
       "count   244578.000000         244578.000000  244578.000000  244578.000000   \n",
       "mean     28614.244737            111.942566     154.291228       0.163617   \n",
       "std      15158.053777             54.304292      83.667275       0.369928   \n",
       "min         11.030477              1.000000      10.000000       0.000000   \n",
       "25%      23354.000000             26.000000      82.000000       0.000000   \n",
       "50%      30971.000000            147.000000     154.000000       0.000000   \n",
       "75%      38361.000000            152.000000     227.000000       0.000000   \n",
       "max      61718.000000            163.000000     299.000000       1.000000   \n",
       "\n",
       "       Gender_Female    Gender_Male  Vehicle_Age_1-2 Year  \\\n",
       "count  244578.000000  244578.000000         244578.000000   \n",
       "mean        0.461979       0.538021              0.523600   \n",
       "std         0.498553       0.498553              0.499444   \n",
       "min         0.000000       0.000000              0.000000   \n",
       "25%         0.000000       0.000000              0.000000   \n",
       "50%         0.000000       1.000000              1.000000   \n",
       "75%         1.000000       1.000000              1.000000   \n",
       "max         1.000000       1.000000              1.000000   \n",
       "\n",
       "       Vehicle_Age_< 1 Year  Vehicle_Age_> 2 Years  Vehicle_Damage_No  \\\n",
       "count         244578.000000          244578.000000      244578.000000   \n",
       "mean               0.435992               0.040408           0.519540   \n",
       "std                0.495887               0.196915           0.499619   \n",
       "min                0.000000               0.000000           0.000000   \n",
       "25%                0.000000               0.000000           0.000000   \n",
       "50%                0.000000               0.000000           1.000000   \n",
       "75%                1.000000               0.000000           1.000000   \n",
       "max                1.000000               1.000000           1.000000   \n",
       "\n",
       "       Vehicle_Damage_Yes  \n",
       "count       244578.000000  \n",
       "mean             0.480460  \n",
       "std              0.499619  \n",
       "min              0.000000  \n",
       "25%              0.000000  \n",
       "50%              0.000000  \n",
       "75%              1.000000  \n",
       "max              1.000000  "
      ]
     },
     "execution_count": 20,
     "metadata": {},
     "output_type": "execute_result"
    }
   ],
   "source": [
    "train.describe()"
   ]
  },
  {
   "cell_type": "markdown",
   "id": "10054d5c",
   "metadata": {
    "id": "wImhsFmJqMtC",
    "papermill": {
     "duration": 0.013975,
     "end_time": "2022-12-28T19:40:40.913124",
     "exception": false,
     "start_time": "2022-12-28T19:40:40.899149",
     "status": "completed"
    },
    "tags": []
   },
   "source": [
    "# **Data Modelling**\n"
   ]
  },
  {
   "cell_type": "code",
   "execution_count": 21,
   "id": "27442902",
   "metadata": {
    "execution": {
     "iopub.execute_input": "2022-12-28T19:40:40.944067Z",
     "iopub.status.busy": "2022-12-28T19:40:40.942943Z",
     "iopub.status.idle": "2022-12-28T19:40:40.956577Z",
     "shell.execute_reply": "2022-12-28T19:40:40.955114Z"
    },
    "id": "IO8AyhjaWsTd",
    "papermill": {
     "duration": 0.031517,
     "end_time": "2022-12-28T19:40:40.958896",
     "exception": false,
     "start_time": "2022-12-28T19:40:40.927379",
     "status": "completed"
    },
    "tags": []
   },
   "outputs": [],
   "source": [
    "#Divide the data into “attributes” and “labels”\n",
    "X = train.drop('Response',axis=1) #separate the other attributes from the predicting attribute\n",
    "y = train['Response']"
   ]
  },
  {
   "cell_type": "code",
   "execution_count": 22,
   "id": "dc7a2b3c",
   "metadata": {
    "execution": {
     "iopub.execute_input": "2022-12-28T19:40:40.989691Z",
     "iopub.status.busy": "2022-12-28T19:40:40.989206Z",
     "iopub.status.idle": "2022-12-28T19:40:53.589400Z",
     "shell.execute_reply": "2022-12-28T19:40:53.588343Z"
    },
    "id": "KefPypfEZ44l",
    "papermill": {
     "duration": 12.618862,
     "end_time": "2022-12-28T19:40:53.592309",
     "exception": false,
     "start_time": "2022-12-28T19:40:40.973447",
     "status": "completed"
    },
    "tags": []
   },
   "outputs": [],
   "source": [
    "# Split dataset into training set and test set\n",
    "X_train, X_test, y_train, y_test = train_test_split(X, y, test_size=0.25,stratify=y, random_state=0) # 80% training and 20% test"
   ]
  },
  {
   "cell_type": "code",
   "execution_count": 23,
   "id": "fd96796e",
   "metadata": {},
   "outputs": [
    {
     "data": {
      "text/plain": [
       "((183433, 14), (183433,))"
      ]
     },
     "execution_count": 23,
     "metadata": {},
     "output_type": "execute_result"
    }
   ],
   "source": [
    "X_train.shape,y_train.shape"
   ]
  },
  {
   "cell_type": "code",
   "execution_count": 24,
   "id": "5e2da95f",
   "metadata": {},
   "outputs": [],
   "source": [
    "from sklearn.decomposition import PCA\n",
    "\n",
    "n_components = 7 # for example\n",
    "pca = PCA(n_components=n_components)\n",
    "\n",
    "# fit PCA on training data\n",
    "pca.fit(X_train)\n",
    "\n",
    "# transform both training and test data\n",
    "X_train_pca = pca.transform(X_train)\n",
    "X_test_pca = pca.transform(X_test)\n",
    "\n",
    "# create new column names\n",
    "column_names = [f\"PC{i+1}\" for i in range(n_components)]\n",
    "\n",
    "# convert transformed data to dataframes with new column names\n",
    "X_train_pca_df = pd.DataFrame(X_train_pca, columns=column_names)\n",
    "X_test_pca_df = pd.DataFrame(X_test_pca, columns=column_names)"
   ]
  },
  {
   "cell_type": "code",
   "execution_count": 25,
   "id": "08d7bccf",
   "metadata": {},
   "outputs": [],
   "source": [
    "X_train = X_train_pca_df\n",
    "X_test = X_test_pca_df"
   ]
  },
  {
   "cell_type": "code",
   "execution_count": 26,
   "id": "94c68f90",
   "metadata": {},
   "outputs": [
    {
     "data": {
      "text/plain": [
       "((183433, 7), (183433,))"
      ]
     },
     "execution_count": 26,
     "metadata": {},
     "output_type": "execute_result"
    }
   ],
   "source": [
    "X_train.shape,y_train.shape"
   ]
  },
  {
   "cell_type": "code",
   "execution_count": 27,
   "id": "37b78fc1",
   "metadata": {},
   "outputs": [],
   "source": [
    "import numpy as np\n",
    "import matplotlib.pyplot as plt\n",
    "from sklearn.ensemble import RandomForestClassifier\n",
    "from sklearn.model_selection import GridSearchCV\n",
    "from sklearn.metrics import classification_report, confusion_matrix, make_scorer, log_loss, f1_score\n",
    "from sklearn.model_selection import learning_curve\n",
    "from sklearn.utils import shuffle\n",
    "from sklearn.linear_model import LogisticRegression\n"
   ]
  },
  {
   "cell_type": "code",
   "execution_count": 28,
   "id": "373ca764",
   "metadata": {},
   "outputs": [
    {
     "data": {
      "text/html": [
       "<style>#sk-container-id-1 {color: black;background-color: white;}#sk-container-id-1 pre{padding: 0;}#sk-container-id-1 div.sk-toggleable {background-color: white;}#sk-container-id-1 label.sk-toggleable__label {cursor: pointer;display: block;width: 100%;margin-bottom: 0;padding: 0.3em;box-sizing: border-box;text-align: center;}#sk-container-id-1 label.sk-toggleable__label-arrow:before {content: \"▸\";float: left;margin-right: 0.25em;color: #696969;}#sk-container-id-1 label.sk-toggleable__label-arrow:hover:before {color: black;}#sk-container-id-1 div.sk-estimator:hover label.sk-toggleable__label-arrow:before {color: black;}#sk-container-id-1 div.sk-toggleable__content {max-height: 0;max-width: 0;overflow: hidden;text-align: left;background-color: #f0f8ff;}#sk-container-id-1 div.sk-toggleable__content pre {margin: 0.2em;color: black;border-radius: 0.25em;background-color: #f0f8ff;}#sk-container-id-1 input.sk-toggleable__control:checked~div.sk-toggleable__content {max-height: 200px;max-width: 100%;overflow: auto;}#sk-container-id-1 input.sk-toggleable__control:checked~label.sk-toggleable__label-arrow:before {content: \"▾\";}#sk-container-id-1 div.sk-estimator input.sk-toggleable__control:checked~label.sk-toggleable__label {background-color: #d4ebff;}#sk-container-id-1 div.sk-label input.sk-toggleable__control:checked~label.sk-toggleable__label {background-color: #d4ebff;}#sk-container-id-1 input.sk-hidden--visually {border: 0;clip: rect(1px 1px 1px 1px);clip: rect(1px, 1px, 1px, 1px);height: 1px;margin: -1px;overflow: hidden;padding: 0;position: absolute;width: 1px;}#sk-container-id-1 div.sk-estimator {font-family: monospace;background-color: #f0f8ff;border: 1px dotted black;border-radius: 0.25em;box-sizing: border-box;margin-bottom: 0.5em;}#sk-container-id-1 div.sk-estimator:hover {background-color: #d4ebff;}#sk-container-id-1 div.sk-parallel-item::after {content: \"\";width: 100%;border-bottom: 1px solid gray;flex-grow: 1;}#sk-container-id-1 div.sk-label:hover label.sk-toggleable__label {background-color: #d4ebff;}#sk-container-id-1 div.sk-serial::before {content: \"\";position: absolute;border-left: 1px solid gray;box-sizing: border-box;top: 0;bottom: 0;left: 50%;z-index: 0;}#sk-container-id-1 div.sk-serial {display: flex;flex-direction: column;align-items: center;background-color: white;padding-right: 0.2em;padding-left: 0.2em;position: relative;}#sk-container-id-1 div.sk-item {position: relative;z-index: 1;}#sk-container-id-1 div.sk-parallel {display: flex;align-items: stretch;justify-content: center;background-color: white;position: relative;}#sk-container-id-1 div.sk-item::before, #sk-container-id-1 div.sk-parallel-item::before {content: \"\";position: absolute;border-left: 1px solid gray;box-sizing: border-box;top: 0;bottom: 0;left: 50%;z-index: -1;}#sk-container-id-1 div.sk-parallel-item {display: flex;flex-direction: column;z-index: 1;position: relative;background-color: white;}#sk-container-id-1 div.sk-parallel-item:first-child::after {align-self: flex-end;width: 50%;}#sk-container-id-1 div.sk-parallel-item:last-child::after {align-self: flex-start;width: 50%;}#sk-container-id-1 div.sk-parallel-item:only-child::after {width: 0;}#sk-container-id-1 div.sk-dashed-wrapped {border: 1px dashed gray;margin: 0 0.4em 0.5em 0.4em;box-sizing: border-box;padding-bottom: 0.4em;background-color: white;}#sk-container-id-1 div.sk-label label {font-family: monospace;font-weight: bold;display: inline-block;line-height: 1.2em;}#sk-container-id-1 div.sk-label-container {text-align: center;}#sk-container-id-1 div.sk-container {/* jupyter's `normalize.less` sets `[hidden] { display: none; }` but bootstrap.min.css set `[hidden] { display: none !important; }` so we also need the `!important` here to be able to override the default hidden behavior on the sphinx rendered scikit-learn.org. See: https://github.com/scikit-learn/scikit-learn/issues/21755 */display: inline-block !important;position: relative;}#sk-container-id-1 div.sk-text-repr-fallback {display: none;}</style><div id=\"sk-container-id-1\" class=\"sk-top-container\"><div class=\"sk-text-repr-fallback\"><pre>RandomForestClassifier(class_weight=&#x27;balanced&#x27;)</pre><b>In a Jupyter environment, please rerun this cell to show the HTML representation or trust the notebook. <br />On GitHub, the HTML representation is unable to render, please try loading this page with nbviewer.org.</b></div><div class=\"sk-container\" hidden><div class=\"sk-item\"><div class=\"sk-estimator sk-toggleable\"><input class=\"sk-toggleable__control sk-hidden--visually\" id=\"sk-estimator-id-1\" type=\"checkbox\" checked><label for=\"sk-estimator-id-1\" class=\"sk-toggleable__label sk-toggleable__label-arrow\">RandomForestClassifier</label><div class=\"sk-toggleable__content\"><pre>RandomForestClassifier(class_weight=&#x27;balanced&#x27;)</pre></div></div></div></div></div>"
      ],
      "text/plain": [
       "RandomForestClassifier(class_weight='balanced')"
      ]
     },
     "execution_count": 28,
     "metadata": {},
     "output_type": "execute_result"
    }
   ],
   "source": [
    "rfc = RandomForestClassifier(class_weight='balanced')\n",
    "rfc.fit(X_train, y_train)"
   ]
  },
  {
   "cell_type": "code",
   "execution_count": 29,
   "id": "fc99001f",
   "metadata": {},
   "outputs": [
    {
     "name": "stdout",
     "output_type": "stream",
     "text": [
      "Classification Report: \n",
      "               precision    recall  f1-score   support\n",
      "\n",
      "           0       0.88      0.93      0.90     51141\n",
      "           1       0.50      0.34      0.40     10004\n",
      "\n",
      "    accuracy                           0.84     61145\n",
      "   macro avg       0.69      0.63      0.65     61145\n",
      "weighted avg       0.82      0.84      0.82     61145\n",
      "\n",
      "Confusion Matrix: \n",
      " [[47706  3435]\n",
      " [ 6632  3372]]\n"
     ]
    }
   ],
   "source": [
    "# Print the classification report and confusion matrix\n",
    "y_pred = rfc.predict(X_test)\n",
    "print(\"Classification Report: \\n\", classification_report(y_test, y_pred))\n",
    "print(\"Confusion Matrix: \\n\", confusion_matrix(y_test, y_pred))"
   ]
  },
  {
   "cell_type": "code",
   "execution_count": 30,
   "id": "caca180d",
   "metadata": {},
   "outputs": [
    {
     "data": {
      "text/plain": [
       "<AxesSubplot:>"
      ]
     },
     "execution_count": 30,
     "metadata": {},
     "output_type": "execute_result"
    },
    {
     "data": {
      "image/png": "[encoded data removed]",
      "text/plain": [
       "<Figure size 432x288 with 2 Axes>"
      ]
     },
     "metadata": {
      "needs_background": "light"
     },
     "output_type": "display_data"
    }
   ],
   "source": [
    "cf_matrixRF = confusion_matrix(y_test, y_pred)\n",
    "\n",
    "group_names  = ['True Neg','False Pos','False Neg','True Pos']\n",
    "group_counts = ['{0:0.0f}'.format(value) for value in\n",
    "                cf_matrixRF.flatten()]\n",
    "\n",
    "group_percentages = ['{0:.2%}'.format(value) for value in\n",
    "                     cf_matrixRF.flatten()/np.sum(cf_matrixRF)]\n",
    "\n",
    "labels = [f'{v1}\\n{v2}\\n{v3}' for v1, v2, v3 in\n",
    "          zip(group_names,group_counts,group_percentages)]\n",
    "\n",
    "labels = np.asarray(labels).reshape(2,2)\n",
    "\n",
    "sns.heatmap(cf_matrixRF, annot=labels, fmt='', cmap='Blues')"
   ]
  },
  {
   "cell_type": "code",
   "execution_count": 31,
   "id": "7013db56",
   "metadata": {
    "scrolled": true
   },
   "outputs": [],
   "source": [
    "import scikitplot as skplt"
   ]
  },
  {
   "cell_type": "code",
   "execution_count": 32,
   "id": "c32f2e6d",
   "metadata": {},
   "outputs": [
    {
     "data": {
      "image/png": "[encoded data removed]",
      "text/plain": [
       "<Figure size 432x288 with 1 Axes>"
      ]
     },
     "metadata": {
      "needs_background": "light"
     },
     "output_type": "display_data"
    }
   ],
   "source": [
    "skplt.estimators.plot_learning_curve(rfc, X_train, y_train)\n",
    "plt.show()"
   ]
  },
  {
   "cell_type": "code",
   "execution_count": 33,
   "id": "0d498c70",
   "metadata": {},
   "outputs": [
    {
     "name": "stdout",
     "output_type": "stream",
     "text": [
      "Classification Report:\n",
      "              precision    recall  f1-score   support\n",
      "\n",
      "           0       1.00      0.62      0.76     51141\n",
      "           1       0.33      0.99      0.50     10004\n",
      "\n",
      "    accuracy                           0.68     61145\n",
      "   macro avg       0.67      0.80      0.63     61145\n",
      "weighted avg       0.89      0.68      0.72     61145\n",
      "\n",
      "Confusion Matrix:\n",
      "[[31486 19655]\n",
      " [  126  9878]]\n"
     ]
    },
    {
     "name": "stderr",
     "output_type": "stream",
     "text": [
      "C:\\Users\\user\\AppData\\Roaming\\Python\\Python38\\site-packages\\sklearn\\linear_model\\_logistic.py:458: ConvergenceWarning: lbfgs failed to converge (status=1):\n",
      "STOP: TOTAL NO. of ITERATIONS REACHED LIMIT.\n",
      "\n",
      "Increase the number of iterations (max_iter) or scale the data as shown in:\n",
      "    https://scikit-learn.org/stable/modules/preprocessing.html\n",
      "Please also refer to the documentation for alternative solver options:\n",
      "    https://scikit-learn.org/stable/modules/linear_model.html#logistic-regression\n",
      "  n_iter_i = _check_optimize_result(\n"
     ]
    }
   ],
   "source": [
    "LR = LogisticRegression(class_weight='balanced')\n",
    "\n",
    "# Fit the classifier to the training data\n",
    "LR.fit(X_train, y_train)\n",
    "\n",
    "# Use the classifier to predict the test data\n",
    "y_pred = LR.predict(X_test)\n",
    "\n",
    "# Display classification report and confusion matrix\n",
    "print(\"Classification Report:\")\n",
    "print(classification_report(y_test, y_pred))\n",
    "print(\"Confusion Matrix:\")\n",
    "print(confusion_matrix(y_test, y_pred))"
   ]
  },
  {
   "cell_type": "code",
   "execution_count": 34,
   "id": "d007561d",
   "metadata": {},
   "outputs": [
    {
     "data": {
      "text/plain": [
       "<AxesSubplot:>"
      ]
     },
     "execution_count": 34,
     "metadata": {},
     "output_type": "execute_result"
    },
    {
     "data": {
      "image/png": "[encoded data removed]",
      "text/plain": [
       "<Figure size 432x288 with 2 Axes>"
      ]
     },
     "metadata": {
      "needs_background": "light"
     },
     "output_type": "display_data"
    }
   ],
   "source": [
    "cf_matrixLR = confusion_matrix(y_test, y_pred)\n",
    "\n",
    "group_names  = ['True Neg','False Pos','False Neg','True Pos']\n",
    "group_counts = ['{0:0.0f}'.format(value) for value in\n",
    "                cf_matrixLR.flatten()]\n",
    "\n",
    "group_percentages = ['{0:.2%}'.format(value) for value in\n",
    "                     cf_matrixLR.flatten()/np.sum(cf_matrixLR)]\n",
    "\n",
    "labels = [f'{v1}\\n{v2}\\n{v3}' for v1, v2, v3 in\n",
    "          zip(group_names,group_counts,group_percentages)]\n",
    "\n",
    "labels = np.asarray(labels).reshape(2,2)\n",
    "\n",
    "sns.heatmap(cf_matrixLR, annot=labels, fmt='', cmap='Blues')"
   ]
  },
  {
   "cell_type": "code",
   "execution_count": 35,
   "id": "246f9a85",
   "metadata": {},
   "outputs": [
    {
     "name": "stderr",
     "output_type": "stream",
     "text": [
      "C:\\Users\\user\\AppData\\Roaming\\Python\\Python38\\site-packages\\sklearn\\linear_model\\_logistic.py:458: ConvergenceWarning: lbfgs failed to converge (status=1):\n",
      "STOP: TOTAL NO. of ITERATIONS REACHED LIMIT.\n",
      "\n",
      "Increase the number of iterations (max_iter) or scale the data as shown in:\n",
      "    https://scikit-learn.org/stable/modules/preprocessing.html\n",
      "Please also refer to the documentation for alternative solver options:\n",
      "    https://scikit-learn.org/stable/modules/linear_model.html#logistic-regression\n",
      "  n_iter_i = _check_optimize_result(\n",
      "C:\\Users\\user\\AppData\\Roaming\\Python\\Python38\\site-packages\\sklearn\\linear_model\\_logistic.py:458: ConvergenceWarning: lbfgs failed to converge (status=1):\n",
      "STOP: TOTAL NO. of ITERATIONS REACHED LIMIT.\n",
      "\n",
      "Increase the number of iterations (max_iter) or scale the data as shown in:\n",
      "    https://scikit-learn.org/stable/modules/preprocessing.html\n",
      "Please also refer to the documentation for alternative solver options:\n",
      "    https://scikit-learn.org/stable/modules/linear_model.html#logistic-regression\n",
      "  n_iter_i = _check_optimize_result(\n",
      "C:\\Users\\user\\AppData\\Roaming\\Python\\Python38\\site-packages\\sklearn\\linear_model\\_logistic.py:458: ConvergenceWarning: lbfgs failed to converge (status=1):\n",
      "STOP: TOTAL NO. of ITERATIONS REACHED LIMIT.\n",
      "\n",
      "Increase the number of iterations (max_iter) or scale the data as shown in:\n",
      "    https://scikit-learn.org/stable/modules/preprocessing.html\n",
      "Please also refer to the documentation for alternative solver options:\n",
      "    https://scikit-learn.org/stable/modules/linear_model.html#logistic-regression\n",
      "  n_iter_i = _check_optimize_result(\n",
      "C:\\Users\\user\\AppData\\Roaming\\Python\\Python38\\site-packages\\sklearn\\linear_model\\_logistic.py:458: ConvergenceWarning: lbfgs failed to converge (status=1):\n",
      "STOP: TOTAL NO. of ITERATIONS REACHED LIMIT.\n",
      "\n",
      "Increase the number of iterations (max_iter) or scale the data as shown in:\n",
      "    https://scikit-learn.org/stable/modules/preprocessing.html\n",
      "Please also refer to the documentation for alternative solver options:\n",
      "    https://scikit-learn.org/stable/modules/linear_model.html#logistic-regression\n",
      "  n_iter_i = _check_optimize_result(\n",
      "C:\\Users\\user\\AppData\\Roaming\\Python\\Python38\\site-packages\\sklearn\\linear_model\\_logistic.py:458: ConvergenceWarning: lbfgs failed to converge (status=1):\n",
      "STOP: TOTAL NO. of ITERATIONS REACHED LIMIT.\n",
      "\n",
      "Increase the number of iterations (max_iter) or scale the data as shown in:\n",
      "    https://scikit-learn.org/stable/modules/preprocessing.html\n",
      "Please also refer to the documentation for alternative solver options:\n",
      "    https://scikit-learn.org/stable/modules/linear_model.html#logistic-regression\n",
      "  n_iter_i = _check_optimize_result(\n",
      "C:\\Users\\user\\AppData\\Roaming\\Python\\Python38\\site-packages\\sklearn\\linear_model\\_logistic.py:458: ConvergenceWarning: lbfgs failed to converge (status=1):\n",
      "STOP: TOTAL NO. of ITERATIONS REACHED LIMIT.\n",
      "\n",
      "Increase the number of iterations (max_iter) or scale the data as shown in:\n",
      "    https://scikit-learn.org/stable/modules/preprocessing.html\n",
      "Please also refer to the documentation for alternative solver options:\n",
      "    https://scikit-learn.org/stable/modules/linear_model.html#logistic-regression\n",
      "  n_iter_i = _check_optimize_result(\n",
      "C:\\Users\\user\\AppData\\Roaming\\Python\\Python38\\site-packages\\sklearn\\linear_model\\_logistic.py:458: ConvergenceWarning: lbfgs failed to converge (status=1):\n",
      "STOP: TOTAL NO. of ITERATIONS REACHED LIMIT.\n",
      "\n",
      "Increase the number of iterations (max_iter) or scale the data as shown in:\n",
      "    https://scikit-learn.org/stable/modules/preprocessing.html\n",
      "Please also refer to the documentation for alternative solver options:\n",
      "    https://scikit-learn.org/stable/modules/linear_model.html#logistic-regression\n",
      "  n_iter_i = _check_optimize_result(\n",
      "C:\\Users\\user\\AppData\\Roaming\\Python\\Python38\\site-packages\\sklearn\\linear_model\\_logistic.py:458: ConvergenceWarning: lbfgs failed to converge (status=1):\n",
      "STOP: TOTAL NO. of ITERATIONS REACHED LIMIT.\n",
      "\n",
      "Increase the number of iterations (max_iter) or scale the data as shown in:\n",
      "    https://scikit-learn.org/stable/modules/preprocessing.html\n",
      "Please also refer to the documentation for alternative solver options:\n",
      "    https://scikit-learn.org/stable/modules/linear_model.html#logistic-regression\n",
      "  n_iter_i = _check_optimize_result(\n",
      "C:\\Users\\user\\AppData\\Roaming\\Python\\Python38\\site-packages\\sklearn\\linear_model\\_logistic.py:458: ConvergenceWarning: lbfgs failed to converge (status=1):\n",
      "STOP: TOTAL NO. of ITERATIONS REACHED LIMIT.\n",
      "\n",
      "Increase the number of iterations (max_iter) or scale the data as shown in:\n",
      "    https://scikit-learn.org/stable/modules/preprocessing.html\n",
      "Please also refer to the documentation for alternative solver options:\n",
      "    https://scikit-learn.org/stable/modules/linear_model.html#logistic-regression\n",
      "  n_iter_i = _check_optimize_result(\n",
      "C:\\Users\\user\\AppData\\Roaming\\Python\\Python38\\site-packages\\sklearn\\linear_model\\_logistic.py:458: ConvergenceWarning: lbfgs failed to converge (status=1):\n",
      "STOP: TOTAL NO. of ITERATIONS REACHED LIMIT.\n",
      "\n",
      "Increase the number of iterations (max_iter) or scale the data as shown in:\n",
      "    https://scikit-learn.org/stable/modules/preprocessing.html\n",
      "Please also refer to the documentation for alternative solver options:\n",
      "    https://scikit-learn.org/stable/modules/linear_model.html#logistic-regression\n",
      "  n_iter_i = _check_optimize_result(\n",
      "C:\\Users\\user\\AppData\\Roaming\\Python\\Python38\\site-packages\\sklearn\\linear_model\\_logistic.py:458: ConvergenceWarning: lbfgs failed to converge (status=1):\n",
      "STOP: TOTAL NO. of ITERATIONS REACHED LIMIT.\n",
      "\n",
      "Increase the number of iterations (max_iter) or scale the data as shown in:\n",
      "    https://scikit-learn.org/stable/modules/preprocessing.html\n",
      "Please also refer to the documentation for alternative solver options:\n",
      "    https://scikit-learn.org/stable/modules/linear_model.html#logistic-regression\n",
      "  n_iter_i = _check_optimize_result(\n",
      "C:\\Users\\user\\AppData\\Roaming\\Python\\Python38\\site-packages\\sklearn\\linear_model\\_logistic.py:458: ConvergenceWarning: lbfgs failed to converge (status=1):\n",
      "STOP: TOTAL NO. of ITERATIONS REACHED LIMIT.\n",
      "\n",
      "Increase the number of iterations (max_iter) or scale the data as shown in:\n",
      "    https://scikit-learn.org/stable/modules/preprocessing.html\n",
      "Please also refer to the documentation for alternative solver options:\n",
      "    https://scikit-learn.org/stable/modules/linear_model.html#logistic-regression\n",
      "  n_iter_i = _check_optimize_result(\n",
      "C:\\Users\\user\\AppData\\Roaming\\Python\\Python38\\site-packages\\sklearn\\linear_model\\_logistic.py:458: ConvergenceWarning: lbfgs failed to converge (status=1):\n",
      "STOP: TOTAL NO. of ITERATIONS REACHED LIMIT.\n",
      "\n",
      "Increase the number of iterations (max_iter) or scale the data as shown in:\n",
      "    https://scikit-learn.org/stable/modules/preprocessing.html\n",
      "Please also refer to the documentation for alternative solver options:\n",
      "    https://scikit-learn.org/stable/modules/linear_model.html#logistic-regression\n",
      "  n_iter_i = _check_optimize_result(\n",
      "C:\\Users\\user\\AppData\\Roaming\\Python\\Python38\\site-packages\\sklearn\\linear_model\\_logistic.py:458: ConvergenceWarning: lbfgs failed to converge (status=1):\n",
      "STOP: TOTAL NO. of ITERATIONS REACHED LIMIT.\n",
      "\n",
      "Increase the number of iterations (max_iter) or scale the data as shown in:\n",
      "    https://scikit-learn.org/stable/modules/preprocessing.html\n",
      "Please also refer to the documentation for alternative solver options:\n",
      "    https://scikit-learn.org/stable/modules/linear_model.html#logistic-regression\n",
      "  n_iter_i = _check_optimize_result(\n",
      "C:\\Users\\user\\AppData\\Roaming\\Python\\Python38\\site-packages\\sklearn\\linear_model\\_logistic.py:458: ConvergenceWarning: lbfgs failed to converge (status=1):\n",
      "STOP: TOTAL NO. of ITERATIONS REACHED LIMIT.\n",
      "\n",
      "Increase the number of iterations (max_iter) or scale the data as shown in:\n",
      "    https://scikit-learn.org/stable/modules/preprocessing.html\n",
      "Please also refer to the documentation for alternative solver options:\n",
      "    https://scikit-learn.org/stable/modules/linear_model.html#logistic-regression\n",
      "  n_iter_i = _check_optimize_result(\n",
      "C:\\Users\\user\\AppData\\Roaming\\Python\\Python38\\site-packages\\sklearn\\linear_model\\_logistic.py:458: ConvergenceWarning: lbfgs failed to converge (status=1):\n",
      "STOP: TOTAL NO. of ITERATIONS REACHED LIMIT.\n",
      "\n",
      "Increase the number of iterations (max_iter) or scale the data as shown in:\n",
      "    https://scikit-learn.org/stable/modules/preprocessing.html\n",
      "Please also refer to the documentation for alternative solver options:\n",
      "    https://scikit-learn.org/stable/modules/linear_model.html#logistic-regression\n",
      "  n_iter_i = _check_optimize_result(\n",
      "C:\\Users\\user\\AppData\\Roaming\\Python\\Python38\\site-packages\\sklearn\\linear_model\\_logistic.py:458: ConvergenceWarning: lbfgs failed to converge (status=1):\n",
      "STOP: TOTAL NO. of ITERATIONS REACHED LIMIT.\n",
      "\n",
      "Increase the number of iterations (max_iter) or scale the data as shown in:\n",
      "    https://scikit-learn.org/stable/modules/preprocessing.html\n",
      "Please also refer to the documentation for alternative solver options:\n",
      "    https://scikit-learn.org/stable/modules/linear_model.html#logistic-regression\n",
      "  n_iter_i = _check_optimize_result(\n",
      "C:\\Users\\user\\AppData\\Roaming\\Python\\Python38\\site-packages\\sklearn\\linear_model\\_logistic.py:458: ConvergenceWarning: lbfgs failed to converge (status=1):\n",
      "STOP: TOTAL NO. of ITERATIONS REACHED LIMIT.\n",
      "\n",
      "Increase the number of iterations (max_iter) or scale the data as shown in:\n",
      "    https://scikit-learn.org/stable/modules/preprocessing.html\n",
      "Please also refer to the documentation for alternative solver options:\n",
      "    https://scikit-learn.org/stable/modules/linear_model.html#logistic-regression\n",
      "  n_iter_i = _check_optimize_result(\n",
      "C:\\Users\\user\\AppData\\Roaming\\Python\\Python38\\site-packages\\sklearn\\linear_model\\_logistic.py:458: ConvergenceWarning: lbfgs failed to converge (status=1):\n",
      "STOP: TOTAL NO. of ITERATIONS REACHED LIMIT.\n",
      "\n",
      "Increase the number of iterations (max_iter) or scale the data as shown in:\n",
      "    https://scikit-learn.org/stable/modules/preprocessing.html\n",
      "Please also refer to the documentation for alternative solver options:\n",
      "    https://scikit-learn.org/stable/modules/linear_model.html#logistic-regression\n",
      "  n_iter_i = _check_optimize_result(\n",
      "C:\\Users\\user\\AppData\\Roaming\\Python\\Python38\\site-packages\\sklearn\\linear_model\\_logistic.py:458: ConvergenceWarning: lbfgs failed to converge (status=1):\n",
      "STOP: TOTAL NO. of ITERATIONS REACHED LIMIT.\n",
      "\n",
      "Increase the number of iterations (max_iter) or scale the data as shown in:\n",
      "    https://scikit-learn.org/stable/modules/preprocessing.html\n",
      "Please also refer to the documentation for alternative solver options:\n",
      "    https://scikit-learn.org/stable/modules/linear_model.html#logistic-regression\n",
      "  n_iter_i = _check_optimize_result(\n",
      "C:\\Users\\user\\AppData\\Roaming\\Python\\Python38\\site-packages\\sklearn\\linear_model\\_logistic.py:458: ConvergenceWarning: lbfgs failed to converge (status=1):\n",
      "STOP: TOTAL NO. of ITERATIONS REACHED LIMIT.\n",
      "\n",
      "Increase the number of iterations (max_iter) or scale the data as shown in:\n",
      "    https://scikit-learn.org/stable/modules/preprocessing.html\n",
      "Please also refer to the documentation for alternative solver options:\n",
      "    https://scikit-learn.org/stable/modules/linear_model.html#logistic-regression\n",
      "  n_iter_i = _check_optimize_result(\n",
      "C:\\Users\\user\\AppData\\Roaming\\Python\\Python38\\site-packages\\sklearn\\linear_model\\_logistic.py:458: ConvergenceWarning: lbfgs failed to converge (status=1):\n",
      "STOP: TOTAL NO. of ITERATIONS REACHED LIMIT.\n",
      "\n",
      "Increase the number of iterations (max_iter) or scale the data as shown in:\n",
      "    https://scikit-learn.org/stable/modules/preprocessing.html\n",
      "Please also refer to the documentation for alternative solver options:\n",
      "    https://scikit-learn.org/stable/modules/linear_model.html#logistic-regression\n",
      "  n_iter_i = _check_optimize_result(\n",
      "C:\\Users\\user\\AppData\\Roaming\\Python\\Python38\\site-packages\\sklearn\\linear_model\\_logistic.py:458: ConvergenceWarning: lbfgs failed to converge (status=1):\n",
      "STOP: TOTAL NO. of ITERATIONS REACHED LIMIT.\n",
      "\n",
      "Increase the number of iterations (max_iter) or scale the data as shown in:\n",
      "    https://scikit-learn.org/stable/modules/preprocessing.html\n",
      "Please also refer to the documentation for alternative solver options:\n",
      "    https://scikit-learn.org/stable/modules/linear_model.html#logistic-regression\n",
      "  n_iter_i = _check_optimize_result(\n",
      "C:\\Users\\user\\AppData\\Roaming\\Python\\Python38\\site-packages\\sklearn\\linear_model\\_logistic.py:458: ConvergenceWarning: lbfgs failed to converge (status=1):\n",
      "STOP: TOTAL NO. of ITERATIONS REACHED LIMIT.\n",
      "\n",
      "Increase the number of iterations (max_iter) or scale the data as shown in:\n",
      "    https://scikit-learn.org/stable/modules/preprocessing.html\n",
      "Please also refer to the documentation for alternative solver options:\n",
      "    https://scikit-learn.org/stable/modules/linear_model.html#logistic-regression\n",
      "  n_iter_i = _check_optimize_result(\n",
      "C:\\Users\\user\\AppData\\Roaming\\Python\\Python38\\site-packages\\sklearn\\linear_model\\_logistic.py:458: ConvergenceWarning: lbfgs failed to converge (status=1):\n",
      "STOP: TOTAL NO. of ITERATIONS REACHED LIMIT.\n",
      "\n",
      "Increase the number of iterations (max_iter) or scale the data as shown in:\n",
      "    https://scikit-learn.org/stable/modules/preprocessing.html\n",
      "Please also refer to the documentation for alternative solver options:\n",
      "    https://scikit-learn.org/stable/modules/linear_model.html#logistic-regression\n",
      "  n_iter_i = _check_optimize_result(\n"
     ]
    },
    {
     "data": {
      "image/png": "[encoded data removed]",
      "text/plain": [
       "<Figure size 432x288 with 1 Axes>"
      ]
     },
     "metadata": {
      "needs_background": "light"
     },
     "output_type": "display_data"
    }
   ],
   "source": [
    "skplt.estimators.plot_learning_curve(LR, X_train, y_train)\n",
    "plt.show()"
   ]
  },
  {
   "cell_type": "code",
   "execution_count": 36,
   "id": "3dcb606c",
   "metadata": {},
   "outputs": [
    {
     "name": "stdout",
     "output_type": "stream",
     "text": [
      "Classification Report:\n",
      "              precision    recall  f1-score   support\n",
      "\n",
      "           0       0.89      0.89      0.89     51141\n",
      "           1       0.43      0.42      0.42     10004\n",
      "\n",
      "    accuracy                           0.81     61145\n",
      "   macro avg       0.66      0.65      0.66     61145\n",
      "weighted avg       0.81      0.81      0.81     61145\n",
      "\n",
      "Confusion Matrix:\n",
      "[[45538  5603]\n",
      " [ 5814  4190]]\n"
     ]
    }
   ],
   "source": [
    "from sklearn.tree import DecisionTreeClassifier\n",
    "\n",
    "dt = DecisionTreeClassifier(class_weight='balanced', random_state=42)\n",
    "\n",
    "# Fit the classifier to the training data\n",
    "dt.fit(X_train, y_train)\n",
    "\n",
    "# Use the classifier to predict the test data\n",
    "y_pred = dt.predict(X_test)\n",
    "\n",
    "# Display classification report and confusion matrix\n",
    "print(\"Classification Report:\")\n",
    "print(classification_report(y_test, y_pred))\n",
    "print(\"Confusion Matrix:\")\n",
    "print(confusion_matrix(y_test, y_pred))"
   ]
  },
  {
   "cell_type": "code",
   "execution_count": 37,
   "id": "0ed94d52",
   "metadata": {},
   "outputs": [
    {
     "data": {
      "text/plain": [
       "<AxesSubplot:>"
      ]
     },
     "execution_count": 37,
     "metadata": {},
     "output_type": "execute_result"
    },
    {
     "data": {
      "image/png": "[encoded data removed]",
      "text/plain": [
       "<Figure size 432x288 with 2 Axes>"
      ]
     },
     "metadata": {
      "needs_background": "light"
     },
     "output_type": "display_data"
    }
   ],
   "source": [
    "cf_matrixDT = confusion_matrix(y_test, y_pred)\n",
    "\n",
    "group_names  = ['True Neg','False Pos','False Neg','True Pos']\n",
    "group_counts = ['{0:0.0f}'.format(value) for value in\n",
    "                cf_matrixDT.flatten()]\n",
    "\n",
    "group_percentages = ['{0:.2%}'.format(value) for value in\n",
    "                     cf_matrixDT.flatten()/np.sum(cf_matrixDT)]\n",
    "\n",
    "labels = [f'{v1}\\n{v2}\\n{v3}' for v1, v2, v3 in\n",
    "          zip(group_names,group_counts,group_percentages)]\n",
    "\n",
    "labels = np.asarray(labels).reshape(2,2)\n",
    "\n",
    "sns.heatmap(cf_matrixDT, annot=labels, fmt='', cmap='Blues')"
   ]
  },
  {
   "cell_type": "code",
   "execution_count": 38,
   "id": "b9080b23",
   "metadata": {},
   "outputs": [
    {
     "data": {
      "image/png": "[encoded data removed]",
      "text/plain": [
       "<Figure size 432x288 with 1 Axes>"
      ]
     },
     "metadata": {
      "needs_background": "light"
     },
     "output_type": "display_data"
    }
   ],
   "source": [
    "skplt.estimators.plot_learning_curve(dt, X_train, y_train)\n",
    "plt.show()"
   ]
  },
  {
   "cell_type": "code",
   "execution_count": 39,
   "id": "62cf701c",
   "metadata": {},
   "outputs": [
    {
     "name": "stdout",
     "output_type": "stream",
     "text": [
      "Classification Report:\n",
      "              precision    recall  f1-score   support\n",
      "\n",
      "           0       0.88      0.94      0.91     51141\n",
      "           1       0.52      0.36      0.43     10004\n",
      "\n",
      "    accuracy                           0.84     61145\n",
      "   macro avg       0.70      0.65      0.67     61145\n",
      "weighted avg       0.82      0.84      0.83     61145\n",
      "\n",
      "Confusion Matrix:\n",
      "[[47833  3308]\n",
      " [ 6385  3619]]\n"
     ]
    }
   ],
   "source": [
    "from catboost import CatBoostClassifier, cv\n",
    "cat = CatBoostClassifier(iterations = 1000, learning_rate = 0.1,\n",
    "                         depth=6, loss_function=\"Logloss\",silent=True)\n",
    "\n",
    "# Fit the classifier to the training data\n",
    "cat.fit(X_train, y_train)\n",
    "\n",
    "# Use the classifier to predict the test data\n",
    "y_pred = cat.predict(X_test)\n",
    "\n",
    "# Display classification report and confusion matrix\n",
    "print(\"Classification Report:\")\n",
    "print(classification_report(y_test, y_pred))\n",
    "print(\"Confusion Matrix:\")\n",
    "print(confusion_matrix(y_test, y_pred))"
   ]
  },
  {
   "cell_type": "code",
   "execution_count": 40,
   "id": "0499f097",
   "metadata": {},
   "outputs": [
    {
     "data": {
      "text/plain": [
       "<AxesSubplot:>"
      ]
     },
     "execution_count": 40,
     "metadata": {},
     "output_type": "execute_result"
    },
    {
     "data": {
      "image/png": "[encoded data removed]",
      "text/plain": [
       "<Figure size 432x288 with 2 Axes>"
      ]
     },
     "metadata": {
      "needs_background": "light"
     },
     "output_type": "display_data"
    }
   ],
   "source": [
    "cf_matrixCB = confusion_matrix(y_test, y_pred)\n",
    "\n",
    "group_names  = ['True Neg','False Pos','False Neg','True Pos']\n",
    "group_counts = ['{0:0.0f}'.format(value) for value in\n",
    "                cf_matrixCB.flatten()]\n",
    "\n",
    "group_percentages = ['{0:.2%}'.format(value) for value in\n",
    "                     cf_matrixCB.flatten()/np.sum(cf_matrixCB)]\n",
    "\n",
    "labels = [f'{v1}\\n{v2}\\n{v3}' for v1, v2, v3 in\n",
    "          zip(group_names,group_counts,group_percentages)]\n",
    "\n",
    "labels = np.asarray(labels).reshape(2,2)\n",
    "\n",
    "sns.heatmap(cf_matrixCB, annot=labels, fmt='', cmap='Blues')"
   ]
  },
  {
   "cell_type": "code",
   "execution_count": 41,
   "id": "f8cb14ae",
   "metadata": {},
   "outputs": [
    {
     "data": {
      "image/png": "[encoded data removed]",
      "text/plain": [
       "<Figure size 432x288 with 1 Axes>"
      ]
     },
     "metadata": {
      "needs_background": "light"
     },
     "output_type": "display_data"
    }
   ],
   "source": [
    "skplt.estimators.plot_learning_curve(cat, X_train, y_train)\n",
    "plt.show()"
   ]
  },
  {
   "cell_type": "code",
   "execution_count": 42,
   "id": "de3bc5bb",
   "metadata": {},
   "outputs": [
    {
     "name": "stdout",
     "output_type": "stream",
     "text": [
      "Classification Report:\n",
      "              precision    recall  f1-score   support\n",
      "\n",
      "           0       0.84      1.00      0.91     51141\n",
      "           1       0.47      0.01      0.02     10004\n",
      "\n",
      "    accuracy                           0.84     61145\n",
      "   macro avg       0.65      0.50      0.46     61145\n",
      "weighted avg       0.78      0.84      0.76     61145\n",
      "\n",
      "Confusion Matrix:\n",
      "[[51038   103]\n",
      " [ 9913    91]]\n"
     ]
    }
   ],
   "source": [
    "import lightgbm as lgb\n",
    "# Create a LightGBM classifier with class weight parameter\n",
    "lgbm = lgb.LGBMClassifier(class_weight={0:.6, 1:.4}, random_state=42)\n",
    "\n",
    "# Fit the classifier to the training data\n",
    "lgbm.fit(X_train, y_train)\n",
    "\n",
    "# Use the classifier to predict the test data\n",
    "y_pred = lgbm.predict(X_test)\n",
    "\n",
    "# Display classification report and confusion matrix\n",
    "print(\"Classification Report:\")\n",
    "print(classification_report(y_test, y_pred))\n",
    "print(\"Confusion Matrix:\")\n",
    "print(confusion_matrix(y_test, y_pred))"
   ]
  },
  {
   "cell_type": "code",
   "execution_count": 43,
   "id": "a38359c2",
   "metadata": {},
   "outputs": [
    {
     "data": {
      "text/plain": [
       "<AxesSubplot:>"
      ]
     },
     "execution_count": 43,
     "metadata": {},
     "output_type": "execute_result"
    },
    {
     "data": {
      "image/png": "[encoded data removed]",
      "text/plain": [
       "<Figure size 432x288 with 2 Axes>"
      ]
     },
     "metadata": {
      "needs_background": "light"
     },
     "output_type": "display_data"
    }
   ],
   "source": [
    "cf_matrixlgb = confusion_matrix(y_test, y_pred)\n",
    "\n",
    "group_names  = ['True Neg','False Pos','False Neg','True Pos']\n",
    "group_counts = ['{0:0.0f}'.format(value) for value in\n",
    "                cf_matrixlgb.flatten()]\n",
    "\n",
    "group_percentages = ['{0:.2%}'.format(value) for value in\n",
    "                     cf_matrixlgb.flatten()/np.sum(cf_matrixlgb)]\n",
    "\n",
    "labels = [f'{v1}\\n{v2}\\n{v3}' for v1, v2, v3 in\n",
    "          zip(group_names,group_counts,group_percentages)]\n",
    "\n",
    "labels = np.asarray(labels).reshape(2,2)\n",
    "\n",
    "sns.heatmap(cf_matrixlgb, annot=labels, fmt='', cmap='Blues')"
   ]
  },
  {
   "cell_type": "code",
   "execution_count": 44,
   "id": "d92083d0",
   "metadata": {},
   "outputs": [
    {
     "data": {
      "image/png": "[encoded data removed]",
      "text/plain": [
       "<Figure size 432x288 with 1 Axes>"
      ]
     },
     "metadata": {
      "needs_background": "light"
     },
     "output_type": "display_data"
    }
   ],
   "source": [
    "skplt.estimators.plot_learning_curve(lgbm, X_train, y_train)\n",
    "plt.show()"
   ]
  },
  {
   "cell_type": "code",
   "execution_count": null,
   "id": "882ac0fe",
   "metadata": {},
   "outputs": [],
   "source": []
  }
 ],
 "metadata": {
  "kernelspec": {
   "display_name": "Python 3 (ipykernel)",
   "language": "python",
   "name": "python3"
  },
  "language_info": {
   "codemirror_mode": {
    "name": "ipython",
    "version": 3
   },
   "file_extension": ".py",
   "mimetype": "text/x-python",
   "name": "python",
   "nbconvert_exporter": "python",
   "pygments_lexer": "ipython3",
   "version": "3.9.13"
  },
  "papermill": {
   "default_parameters": {},
   "duration": 273.961924,
   "end_time": "2022-12-28T19:44:45.654662",
   "environment_variables": {},
   "exception": null,
   "input_path": "__notebook__.ipynb",
   "output_path": "__notebook__.ipynb",
   "parameters": {},
   "start_time": "2022-12-28T19:40:11.692738",
   "version": "2.3.4"
  }
 },
 "nbformat": 4,
 "nbformat_minor": 5
}
